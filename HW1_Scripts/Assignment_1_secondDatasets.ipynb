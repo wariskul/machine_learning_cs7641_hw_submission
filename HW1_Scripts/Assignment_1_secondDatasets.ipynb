{
 "cells": [
  {
   "cell_type": "markdown",
   "metadata": {},
   "source": [
    "## Assignment 1: Second Datasets HRTU 2"
   ]
  },
  {
   "cell_type": "code",
   "execution_count": 112,
   "metadata": {},
   "outputs": [],
   "source": [
    "import numpy as np\n",
    "import pandas as pd\n",
    "import time\n",
    "# datasets\n",
    "htru = pd.read_csv('HTRU_2.csv', header=None)\n",
    "htru.columns = ['mean_intregrated', 'sd_integrated', 'kurtosis_integrated', 'skew_integrated','mean_dmsnr', 'sd_dmsnr', 'kurtossi_dmsnr', 'skew_dmsnr','labels']"
   ]
  },
  {
   "cell_type": "code",
   "execution_count": 501,
   "metadata": {},
   "outputs": [
    {
     "name": "stdout",
     "output_type": "stream",
     "text": [
      "<class 'pandas.core.frame.DataFrame'>\n",
      "RangeIndex: 17898 entries, 0 to 17897\n",
      "Data columns (total 9 columns):\n",
      " #   Column               Non-Null Count  Dtype  \n",
      "---  ------               --------------  -----  \n",
      " 0   mean_intregrated     17898 non-null  float64\n",
      " 1   sd_integrated        17898 non-null  float64\n",
      " 2   kurtosis_integrated  17898 non-null  float64\n",
      " 3   skew_integrated      17898 non-null  float64\n",
      " 4   mean_dmsnr           17898 non-null  float64\n",
      " 5   sd_dmsnr             17898 non-null  float64\n",
      " 6   kurtossi_dmsnr       17898 non-null  float64\n",
      " 7   skew_dmsnr           17898 non-null  float64\n",
      " 8   labels               17898 non-null  int64  \n",
      "dtypes: float64(8), int64(1)\n",
      "memory usage: 1.2 MB\n"
     ]
    }
   ],
   "source": [
    "htru.info()"
   ]
  },
  {
   "cell_type": "code",
   "execution_count": 115,
   "metadata": {},
   "outputs": [
    {
     "data": {
      "text/plain": [
       "0    16259\n",
       "1     1639\n",
       "Name: labels, dtype: int64"
      ]
     },
     "execution_count": 115,
     "metadata": {},
     "output_type": "execute_result"
    }
   ],
   "source": [
    "htru['labels'].value_counts()"
   ]
  },
  {
   "cell_type": "markdown",
   "metadata": {},
   "source": [
    "### Preprocessing"
   ]
  },
  {
   "cell_type": "code",
   "execution_count": 117,
   "metadata": {},
   "outputs": [],
   "source": [
    "from sklearn.preprocessing import MinMaxScaler, StandardScaler, OneHotEncoder\n",
    "\n",
    "scaling = StandardScaler()\n",
    "hrtu_scaled = scaling.fit_transform(htru.drop('labels', axis=1))"
   ]
  },
  {
   "cell_type": "markdown",
   "metadata": {},
   "source": [
    "### Numerical (just min max scaler sth sth )\n"
   ]
  },
  {
   "cell_type": "code",
   "execution_count": 424,
   "metadata": {},
   "outputs": [],
   "source": [
    "from sklearn.metrics import accuracy_score, precision_score, recall_score, roc_auc_score, f1_score\n",
    "from sklearn.model_selection import learning_curve\n",
    "import matplotlib.pyplot as plt\n",
    "\n",
    "def get_all_metrics_score(predict_value, real_value):\n",
    "    acc_scr = accuracy_score(predict_value, real_value)\n",
    "    pre_scr = precision_score(predict_value, real_value)\n",
    "    recall_scr = recall_score(predict_value, real_value)\n",
    "    roc_scr = roc_auc_score(predict_value, real_value)\n",
    "    f1_scr = f1_score(predict_value, real_value)\n",
    "    print(\"SCORE\")\n",
    "    print(\"Accuracy:\", acc_scr)\n",
    "    print(\"Precision:\", pre_scr)\n",
    "    print(\"Recall:\", recall_scr)\n",
    "    print(\"F1 Score:\", f1_scr)\n",
    "    print(\"ROC AUC:\", roc_scr)\n",
    "#     return {'accuracy':acc_scr, 'precision':pre_scr, 'recall':recall_scr, 'f1_score':f1_scr, 'roc':roc_scr}\n",
    "\n",
    "def plot_learning_curve(model, X, y, title='Learning Curve, for Training Sets and Validation Sets'):\n",
    "    \n",
    "    train_sizes, train_scores, valid_scores = learning_curve(model, X, y, \n",
    "                                                             train_sizes=np.linspace(0.1, 1.0, 10),cv=5, scoring='accuracy')\n",
    "    mean_train_scores = np.mean(train_scores,axis=1)\n",
    "    mean_valid_scores = np.mean(valid_scores,axis=1)\n",
    "    fig, ax = plt.subplots()\n",
    "    ax.plot(train_sizes, mean_train_scores, \"b-\", label='Training Sets')\n",
    "    ax.plot(train_sizes, mean_valid_scores, \"r-\", label='Validation Sets')\n",
    "    ax.set_xlabel('Training Size')\n",
    "    ax.set_ylabel('Mean Accuracy')\n",
    "    ax.set_title(title)\n",
    "    ax.legend()\n",
    "    plt.show(fig)"
   ]
  },
  {
   "cell_type": "markdown",
   "metadata": {},
   "source": [
    "### Combine"
   ]
  },
  {
   "cell_type": "code",
   "execution_count": 123,
   "metadata": {},
   "outputs": [],
   "source": [
    "# features = np.concatenate((stroke_data_scaled,stroke_data_catg_onehot.toarray()),axis=1)\n",
    "features = hrtu_scaled\n",
    "labels = htru['labels']"
   ]
  },
  {
   "cell_type": "markdown",
   "metadata": {},
   "source": [
    "Start Preping some normal ML models"
   ]
  },
  {
   "cell_type": "code",
   "execution_count": 286,
   "metadata": {},
   "outputs": [],
   "source": [
    "# from sklearn.preprocessing import MinMaxScaler, OneHotEncoder\n",
    "from sklearn.tree import DecisionTreeClassifier\n",
    "from sklearn.neighbors import KNeighborsClassifier \n",
    "from sklearn.ensemble import AdaBoostClassifier, RandomForestClassifier\n",
    "from sklearn.svm import SVC, LinearSVC\n",
    "from sklearn.model_selection import train_test_split, GridSearchCV\n",
    "\n",
    "X_train, X_test, y_train, y_test = train_test_split(features, labels, test_size=0.33, random_state=42)\n",
    "X_train_real, X_validation, y_train_real, y_validation = train_test_split(X_train, y_train, test_size=0.3, random_state=42)\n",
    "random_state=42"
   ]
  },
  {
   "cell_type": "markdown",
   "metadata": {},
   "source": [
    "### Decision Tree"
   ]
  },
  {
   "cell_type": "code",
   "execution_count": 427,
   "metadata": {},
   "outputs": [
    {
     "name": "stdout",
     "output_type": "stream",
     "text": [
      "Fit time: 0.0937802791595459 seconds\n",
      "Train Score: 0.9820698857476441\n",
      "Performance:\n",
      "SCORE\n",
      "Accuracy: 0.9790079566615879\n",
      "Precision: 0.8288973384030418\n",
      "Recall: 0.9276595744680851\n",
      "F1 Score: 0.8755020080321284\n",
      "ROC AUC: 0.9555531640962829\n"
     ]
    }
   ],
   "source": [
    "# Train test split\n",
    "from sklearn.model_selection import train_test_split\n",
    "\n",
    "# X_train, X_test, y_train, y_test = train_test_split(features, labels, test_size=0.33, random_state=42)\n",
    "\n",
    "param_grid = [\n",
    "   {'ccp_alpha':[0, 0.0005, 0.001, 0.0015 ,0.002 0.01, 0.02],\n",
    "    'criterion':['gini', 'entropy']\n",
    "   }\n",
    "]\n",
    "# Try GRID SEARCH\n",
    "tree_clf = DecisionTreeClassifier(random_state=random_state)\n",
    "tree_grid_clf = GridSearchCV(tree_clf, param_grid, cv=5,\n",
    "                            scoring='accuracy', return_train_score=True)\n",
    "tree_grid_clf.fit(X_train, y_train)\n",
    "\n",
    "#  Record fit time\n",
    "start_time = time.time()\n",
    "best_tree = tree_grid_clf.best_estimator_\n",
    "best_tree.fit(X_train, y_train)\n",
    "stop_time = time.time()\n",
    "print(f\"Fit time: {stop_time - start_time} seconds\")\n",
    "pred_tree = best_tree.predict(X_test)\n",
    "print(\"Train Score:\", best_tree.score(X_train, y_train))\n",
    "print(\"Performance:\")\n",
    "get_all_metrics_score(pred_tree, y_test)"
   ]
  },
  {
   "cell_type": "code",
   "execution_count": 429,
   "metadata": {},
   "outputs": [
    {
     "data": {
      "text/plain": [
       "DecisionTreeClassifier(ccp_alpha=0.0005, class_weight=None, criterion='gini',\n",
       "                       max_depth=None, max_features=None, max_leaf_nodes=None,\n",
       "                       min_impurity_decrease=0.0, min_impurity_split=None,\n",
       "                       min_samples_leaf=1, min_samples_split=2,\n",
       "                       min_weight_fraction_leaf=0.0, presort='deprecated',\n",
       "                       random_state=42, splitter='best')"
      ]
     },
     "execution_count": 429,
     "metadata": {},
     "output_type": "execute_result"
    }
   ],
   "source": [
    "best_tree"
   ]
  },
  {
   "cell_type": "code",
   "execution_count": 425,
   "metadata": {},
   "outputs": [
    {
     "data": {
      "image/png": "[encoded data removed]",
      "text/plain": [
       "<Figure size 432x288 with 1 Axes>"
      ]
     },
     "metadata": {
      "needs_background": "light"
     },
     "output_type": "display_data"
    }
   ],
   "source": [
    "# Plot Learning curves\n",
    "plot_learning_curve(best_tree, X_train, y_train, 'Learning curve for Dataset#2 HTRU')"
   ]
  },
  {
   "cell_type": "code",
   "execution_count": 196,
   "metadata": {},
   "outputs": [
    {
     "name": "stdout",
     "output_type": "stream",
     "text": [
      "SCORE\n",
      "Accuracy: 0.9705434230573895\n",
      "Precision: 0.8288973384030418\n",
      "Recall: 0.8384615384615385\n",
      "F1 Score: 0.8336520076481836\n",
      "ROC AUC: 0.9108773257557369\n",
      "Train Accuracy 1.0\n"
     ]
    }
   ],
   "source": [
    "# Unprune tree\n",
    "unpruned_tree = DecisionTreeClassifier(ccp_alpha=0, random_state=random_state)\n",
    "unpruned_tree.fit(X_train, y_train)\n",
    "pred_unpruned_tree = unpruned_tree.predict(X_test)\n",
    "get_all_metrics_score(pred_unpruned_tree, y_test)\n",
    "print('Train Accuracy', unpruned_tree.score(X_train, y_train))"
   ]
  },
  {
   "cell_type": "code",
   "execution_count": 197,
   "metadata": {},
   "outputs": [
    {
     "name": "stdout",
     "output_type": "stream",
     "text": [
      "SCORE\n",
      "Accuracy: 0.9790079566615879\n",
      "Precision: 0.8288973384030418\n",
      "Recall: 0.9276595744680851\n",
      "F1 Score: 0.8755020080321284\n",
      "ROC AUC: 0.9555531640962829\n",
      "Train Accuracy 0.9820698857476441\n"
     ]
    }
   ],
   "source": [
    "# Optimal Prune tree\n",
    "pred_best_tree = best_tree.predict(X_test)\n",
    "get_all_metrics_score(pred_best_tree, y_test)\n",
    "print('Train Accuracy', best_tree.score(X_train, y_train))"
   ]
  },
  {
   "cell_type": "code",
   "execution_count": 284,
   "metadata": {},
   "outputs": [
    {
     "name": "stdout",
     "output_type": "stream",
     "text": [
      "SCORE\n",
      "Accuracy: 0.9773150499407482\n",
      "Precision: 0.811787072243346\n",
      "Recall: 0.9242424242424242\n",
      "F1 Score: 0.8643724696356275\n",
      "ROC AUC: 0.953030303030303\n",
      "Train Accuracy 0.9779834876157117\n"
     ]
    }
   ],
   "source": [
    "# Extreme Prune Tree\n",
    "# Unprune tree\n",
    "pruned_tree = DecisionTreeClassifier(ccp_alpha=0.01, random_state=random_state)\n",
    "pruned_tree.fit(X_train, y_train)\n",
    "pred_extreme_pruned_tree = pruned_tree.predict(X_test)\n",
    "get_all_metrics_score(pred_extreme_pruned_tree, y_test)\n",
    "print('Train Accuracy', pruned_tree.score(X_train, y_train))"
   ]
  },
  {
   "cell_type": "markdown",
   "metadata": {},
   "source": [
    "### Pruning Graph"
   ]
  },
  {
   "cell_type": "code",
   "execution_count": 430,
   "metadata": {},
   "outputs": [
    {
     "data": {
      "image/png": "[encoded data removed]",
      "text/plain": [
       "<Figure size 432x288 with 1 Axes>"
      ]
     },
     "metadata": {
      "needs_background": "light"
     },
     "output_type": "display_data"
    }
   ],
   "source": [
    "dtree_clfs = []\n",
    "for i in np.linspace(0,  0.005, 11 ):\n",
    "    dtree = DecisionTreeClassifier(ccp_alpha=i, random_state=random_state)\n",
    "    dtree.fit(X_train_real, y_train_real)\n",
    "    dtree_clfs.append(dtree)\n",
    "\n",
    "train_score = [i.score(X_train_real, y_train_real) for i in dtree_clfs]\n",
    "test_score = [i.score(X_validation, y_validation) for i in dtree_clfs]\n",
    "\n",
    "fig, ax = plt.subplots()\n",
    "ax.plot(np.linspace(0,  0.005, 11 ), train_score, \"b-\", label='Training Sets')\n",
    "ax.plot(np.linspace(0,  0.005, 11 ), test_score, \"r-\", label='Validation Sets')\n",
    "ax.set_xlabel('Pruning Variable')\n",
    "ax.set_ylabel('Mean Accuracy')\n",
    "ax.set_title('Pruning Variable: Dataset #2 HTRU')\n",
    "ax.legend()\n",
    "plt.show(fig)"
   ]
  },
  {
   "cell_type": "markdown",
   "metadata": {},
   "source": [
    "###  KNN"
   ]
  },
  {
   "cell_type": "code",
   "execution_count": 512,
   "metadata": {},
   "outputs": [
    {
     "name": "stdout",
     "output_type": "stream",
     "text": [
      "Fit time: 0.03690218925476074 seconds\n",
      "Train Score: 0.979151029939121\n",
      "Performance:\n",
      "SCORE\n",
      "Accuracy: 0.9795158286778398\n",
      "Precision: 0.8269961977186312\n",
      "Recall: 0.9354838709677419\n",
      "F1 Score: 0.8779011099899091\n",
      "ROC AUC: 0.9593810387547272\n"
     ]
    }
   ],
   "source": [
    "# n = 5\n",
    "knn_clf = KNeighborsClassifier()\n",
    "param_grid = [\n",
    "   {'n_neighbors':[10, 11, 12, 13, 14, 15, 16, 17, 18],\n",
    "    'p':[1 , 2]}\n",
    "]\n",
    "knn_gird_search = GridSearchCV(knn_clf, param_grid, cv=5, scoring='accuracy', return_train_score=True)\n",
    "knn_gird_search.fit(X_train, y_train)\n",
    "knn_best_model = knn_gird_search.best_estimator_\n",
    "\n",
    "start_time = time.time()\n",
    "knn_best_model.fit(X_train, y_train)\n",
    "stop_time = time.time()\n",
    "print(f\"Fit time: {stop_time - start_time} seconds\")\n",
    "pred_knn = knn_best_model.predict(X_test)\n",
    "print(\"Train Score:\", knn_best_model.score(X_train, y_train))\n",
    "print(\"Performance:\")\n",
    "get_all_metrics_score(pred_knn, y_test)\n",
    "# Retrain after plotting KNN variables!!, adding more K"
   ]
  },
  {
   "cell_type": "code",
   "execution_count": 513,
   "metadata": {},
   "outputs": [
    {
     "data": {
      "text/plain": [
       "KNeighborsClassifier(algorithm='auto', leaf_size=30, metric='minkowski',\n",
       "                     metric_params=None, n_jobs=None, n_neighbors=13, p=2,\n",
       "                     weights='uniform')"
      ]
     },
     "execution_count": 513,
     "metadata": {},
     "output_type": "execute_result"
    }
   ],
   "source": [
    "knn_best_model"
   ]
  },
  {
   "cell_type": "code",
   "execution_count": 514,
   "metadata": {},
   "outputs": [
    {
     "data": {
      "image/png": "[encoded data removed]",
      "text/plain": [
       "<Figure size 432x288 with 1 Axes>"
      ]
     },
     "metadata": {
      "needs_background": "light"
     },
     "output_type": "display_data"
    }
   ],
   "source": [
    "plot_learning_curve(knn_best_model, X_train, y_train, 'Learning Curve KNN: For Dataset #2: HTRU')"
   ]
  },
  {
   "cell_type": "code",
   "execution_count": 440,
   "metadata": {},
   "outputs": [
    {
     "data": {
      "image/png": "[encoded data removed]",
      "text/plain": [
       "<Figure size 432x288 with 1 Axes>"
      ]
     },
     "metadata": {
      "needs_background": "light"
     },
     "output_type": "display_data"
    }
   ],
   "source": [
    "# K Learning Graph\n",
    "knn_clfs = []\n",
    "for i in range(1, 41):\n",
    "    knn = KNeighborsClassifier(n_neighbors=i)\n",
    "    knn.fit(X_train_real, y_train_real)\n",
    "    knn_clfs.append(knn)\n",
    "    \n",
    "train_score = [i.score(X_train_real, y_train_real) for i in knn_clfs]\n",
    "test_score = [i.score(X_validation, y_validation) for i in knn_clfs]\n",
    "\n",
    "fig, ax = plt.subplots()\n",
    "ax.plot(range(1, 41) , train_score, \"b-\", label='Training Sets')\n",
    "ax.plot(range(1, 41) , test_score, \"r-\", label='Validation Sets')\n",
    "ax.set_xlabel('K Variables')\n",
    "ax.set_ylabel('Mean Accuracy')\n",
    "ax.set_title('Learning Curve, for K variables: Datasets #2 HTRU')\n",
    "ax.legend()\n",
    "plt.show(fig)"
   ]
  },
  {
   "cell_type": "code",
   "execution_count": 521,
   "metadata": {},
   "outputs": [
    {
     "name": "stdout",
     "output_type": "stream",
     "text": [
      "Train Score [1.0, 0.9791492910758965, 0.9774812343619683]\n",
      "Test Score [0.9697053918843802, 0.9772095608671484, 0.9766536964980544]\n"
     ]
    }
   ],
   "source": [
    "# Get example score for K = 1, 11 (Optimal) and 40\n",
    "knn_clfs_n = []\n",
    "for i in [1, 13, 40]:\n",
    "    knn = KNeighborsClassifier(n_neighbors=i)\n",
    "    knn.fit(X_train_real, y_train_real)\n",
    "    knn_clfs_n.append(knn)\n",
    "    \n",
    "train_score_n = [i.score(X_train_real, y_train_real) for i in knn_clfs_n]\n",
    "test_score_n = [i.score(X_validation, y_validation) for i in knn_clfs_n]\n",
    "print(\"Train Score\", train_score_n)\n",
    "print(\"Test Score\", test_score_n)"
   ]
  },
  {
   "cell_type": "markdown",
   "metadata": {},
   "source": [
    "### Boosting"
   ]
  },
  {
   "cell_type": "code",
   "execution_count": 442,
   "metadata": {},
   "outputs": [
    {
     "name": "stdout",
     "output_type": "stream",
     "text": [
      "Fit time: 34.915464639663696 seconds\n",
      "Train Score: 1.0\n",
      "Performance:\n",
      "SCORE\n",
      "Accuracy: 0.9795158286778398\n",
      "Precision: 0.8384030418250951\n",
      "Recall: 0.9245283018867925\n",
      "F1 Score: 0.8793619142572283\n",
      "ROC AUC: 0.9544372632822544\n"
     ]
    }
   ],
   "source": [
    "param_grid =  [{'base_estimator__ccp_alpha':[0, 0.0005,0.001, 0.0015 ,0.002, 0.01, 0.02]}]\n",
    "\n",
    "dtree = DecisionTreeClassifier()\n",
    "\n",
    "ada_clf =  AdaBoostClassifier(DecisionTreeClassifier(),\n",
    "                          n_estimators=300, random_state=random_state)\n",
    "\n",
    "ada_grid_clf = GridSearchCV(ada_clf, param_grid, cv=5,\n",
    "                            scoring='accuracy', return_train_score=True)\n",
    "ada_grid_clf.fit(X_train, y_train)\n",
    "ada_grid_best = ada_grid_clf.best_estimator_\n",
    "\n",
    "start_time = time.time()\n",
    "ada_grid_best.fit(X_train, y_train)\n",
    "stop_time = time.time()\n",
    "print(f\"Fit time: {stop_time - start_time} seconds\")\n",
    "pred_ada = ada_grid_best.predict(X_test)\n",
    "print(\"Train Score:\", ada_grid_best.score(X_train, y_train))\n",
    "print(\"Performance:\")\n",
    "get_all_metrics_score(pred_ada, y_test)"
   ]
  },
  {
   "cell_type": "code",
   "execution_count": 443,
   "metadata": {},
   "outputs": [
    {
     "data": {
      "text/plain": [
       "AdaBoostClassifier(algorithm='SAMME.R',\n",
       "                   base_estimator=DecisionTreeClassifier(ccp_alpha=0.0015,\n",
       "                                                         class_weight=None,\n",
       "                                                         criterion='gini',\n",
       "                                                         max_depth=None,\n",
       "                                                         max_features=None,\n",
       "                                                         max_leaf_nodes=None,\n",
       "                                                         min_impurity_decrease=0.0,\n",
       "                                                         min_impurity_split=None,\n",
       "                                                         min_samples_leaf=1,\n",
       "                                                         min_samples_split=2,\n",
       "                                                         min_weight_fraction_leaf=0.0,\n",
       "                                                         presort='deprecated',\n",
       "                                                         random_state=None,\n",
       "                                                         splitter='best'),\n",
       "                   learning_rate=1.0, n_estimators=300, random_state=42)"
      ]
     },
     "execution_count": 443,
     "metadata": {},
     "output_type": "execute_result"
    }
   ],
   "source": [
    "ada_grid_best"
   ]
  },
  {
   "cell_type": "code",
   "execution_count": 340,
   "metadata": {},
   "outputs": [
    {
     "name": "stdout",
     "output_type": "stream",
     "text": [
      "SCORE\n",
      "Accuracy: 0.9800237006940917\n",
      "Precision: 0.8479087452471483\n",
      "Recall: 0.9214876033057852\n",
      "F1 Score: 0.8831683168316831\n",
      "ROC AUC: 0.9533678105040821\n",
      "{'accuracy': 0.9800237006940917, 'precision': 0.8479087452471483, 'recall': 0.9214876033057852, 'f1_score': 0.8831683168316831, 'roc': 0.9533678105040821}\n",
      "Train Score: 1.0\n"
     ]
    }
   ],
   "source": [
    "print(get_all_metrics_score(pred_ada, y_test))\n",
    "print('Train Score:',ada_grid_best.score(X_train, y_train))"
   ]
  },
  {
   "cell_type": "code",
   "execution_count": 444,
   "metadata": {},
   "outputs": [
    {
     "data": {
      "image/png": "[encoded data removed]",
      "text/plain": [
       "<Figure size 432x288 with 1 Axes>"
      ]
     },
     "metadata": {
      "needs_background": "light"
     },
     "output_type": "display_data"
    }
   ],
   "source": [
    "plot_learning_curve(ada_grid_best, X_train, y_train, 'Learning Curve, Boosting: Datasets #2 HTRU')"
   ]
  },
  {
   "cell_type": "code",
   "execution_count": 339,
   "metadata": {},
   "outputs": [
    {
     "name": "stdout",
     "output_type": "stream",
     "text": [
      "SCORE\n",
      "Accuracy: 0.9690198070086338\n",
      "Precision: 0.8326996197718631\n",
      "Recall: 0.8217636022514071\n",
      "F1 Score: 0.8271954674220964\n",
      "ROC AUC: 0.9026942313452794\n",
      "{'accuracy': 0.9690198070086338, 'precision': 0.8326996197718631, 'recall': 0.8217636022514071, 'f1_score': 0.8271954674220964, 'roc': 0.9026942313452794}\n",
      "1.0\n"
     ]
    }
   ],
   "source": [
    "# NO prune\n",
    "dtree = DecisionTreeClassifier(ccp_alpha=0)\n",
    "\n",
    "ada_clf =  AdaBoostClassifier(dtree,\n",
    "                          n_estimators=300, random_state=random_state)\n",
    "\n",
    "ada_clf.fit(X_train, y_train)\n",
    "# ada_grid_best = ada_grid_clf.best_estimator_\n",
    "pred_ada_noprune = ada_clf.predict(X_test)\n",
    "print(get_all_metrics_score(pred_ada_noprune, y_test))\n",
    "print(ada_clf.score(X_train, y_train))"
   ]
  },
  {
   "cell_type": "code",
   "execution_count": 338,
   "metadata": {},
   "outputs": [
    {
     "name": "stdout",
     "output_type": "stream",
     "text": [
      "SCORE\n",
      "Accuracy: 0.9747756898594887\n",
      "Precision: 0.7718631178707225\n",
      "Recall: 0.9333333333333333\n",
      "F1 Score: 0.8449531737773154\n",
      "ROC AUC: 0.9557017543859649\n",
      "0.9771495288132767\n",
      "Train Score 0.9771495288132767\n"
     ]
    }
   ],
   "source": [
    "# Extreme prune\n",
    "dtree = DecisionTreeClassifier(ccp_alpha=0.01)\n",
    "\n",
    "ada_clf =  AdaBoostClassifier(dtree,\n",
    "                          n_estimators=300, random_state=random_state)\n",
    "\n",
    "ada_clf.fit(X_train, y_train)\n",
    "# ada_grid_best = ada_grid_clf.best_estimator_\n",
    "pred_ada_noprune = ada_clf.predict(X_test)\n",
    "get_all_metrics_score(pred_ada_noprune, y_test)\n",
    "# print(ada_clf.score(X_train, y_train))\n",
    "print('Train Score', ada_clf.score(X_train, y_train))"
   ]
  },
  {
   "cell_type": "code",
   "execution_count": 337,
   "metadata": {},
   "outputs": [
    {
     "name": "stdout",
     "output_type": "stream",
     "text": [
      "SCORE\n",
      "Accuracy: 0.9773150499407482\n",
      "Precision: 0.811787072243346\n",
      "Recall: 0.9242424242424242\n",
      "F1 Score: 0.8643724696356275\n",
      "ROC AUC: 0.953030303030303\n",
      "{'accuracy': 0.9773150499407482, 'precision': 0.811787072243346, 'recall': 0.9242424242424242, 'f1_score': 0.8643724696356275, 'roc': 0.953030303030303}\n",
      "Train Score 0.9779834876157117\n"
     ]
    }
   ],
   "source": [
    "# Extra Extreme prune\n",
    "dtree = DecisionTreeClassifier(ccp_alpha=0.02)\n",
    "\n",
    "ada_clf =  AdaBoostClassifier(dtree,\n",
    "                          n_estimators=300, random_state=random_state)\n",
    "\n",
    "ada_clf.fit(X_train, y_train)\n",
    "# ada_grid_best = ada_grid_clf.best_estimator_\n",
    "pred_ada_noprune = ada_clf.predict(X_test)\n",
    "print('Train Score', ada_clf.score(X_train, y_train))\n",
    "get_all_metrics_score(pred_ada_noprune, y_test)"
   ]
  },
  {
   "cell_type": "code",
   "execution_count": 336,
   "metadata": {},
   "outputs": [
    {
     "data": {
      "image/png": "[encoded data removed]",
      "text/plain": [
       "<Figure size 432x288 with 1 Axes>"
      ]
     },
     "metadata": {
      "needs_background": "light"
     },
     "output_type": "display_data"
    }
   ],
   "source": [
    "# Pruning Graph for Boosting!!\n",
    "boosting_clfs = []\n",
    "prune_size = np.linspace(0,  0.04, 11 )\n",
    "for i in prune_size:\n",
    "    dtree = DecisionTreeClassifier(ccp_alpha=i)\n",
    "    ada_clf = AdaBoostClassifier(dtree,\n",
    "                          n_estimators=300, random_state=random_state)\n",
    "    ada_clf.fit(X_train_real, y_train_real)\n",
    "    boosting_clfs.append(ada_clf)\n",
    "\n",
    "train_score_ada = [i.score(X_train_real, y_train_real) for i in boosting_clfs]\n",
    "test_score_ada = [i.score(X_validation, y_validation) for i in boosting_clfs]\n",
    "\n",
    "fig, ax = plt.subplots()\n",
    "ax.plot(prune_size, train_score_ada, \"b-\", label='Training Sets')\n",
    "ax.plot(prune_size, test_score_ada, \"r-\", label='Validation Sets')\n",
    "ax.set_xlabel('Pruning Variable (with Boosting)')\n",
    "ax.set_ylabel('Mean Accuracy')\n",
    "ax.set_title('Learning Curve: for Pruning Variable with Boosting, Dataset#2 HTRU')\n",
    "ax.legend()\n",
    "plt.show(fig)"
   ]
  },
  {
   "cell_type": "markdown",
   "metadata": {},
   "source": [
    "### SVM"
   ]
  },
  {
   "cell_type": "code",
   "execution_count": 477,
   "metadata": {},
   "outputs": [
    {
     "name": "stdout",
     "output_type": "stream",
     "text": [
      "Fit time: 4.497974395751953 seconds\n",
      "Train Score: 0.9799849887415562\n",
      "Performance:\n",
      "SCORE\n",
      "Accuracy: 0.978500084645336\n",
      "Precision: 0.8098859315589354\n",
      "Recall: 0.9403973509933775\n",
      "F1 Score: 0.8702757916241063\n",
      "ROC AUC: 0.9610310920716795\n"
     ]
    }
   ],
   "source": [
    "param_grid = [{\n",
    "    'kernel': ['rbf', 'linear','poly','sigmoid'],\n",
    "    'C': [ 0.001, 0.01, 0.1, 1, 10, 100]\n",
    "}]\n",
    "\n",
    "svm_clf = SVC()\n",
    "# svm_clf = SVC(C=1)\n",
    "svm_grid_clf = GridSearchCV(svm_clf, param_grid, cv=5,\n",
    "                            scoring='accuracy', return_train_score=True)\n",
    "\n",
    "svm_grid_clf.fit(X_train, y_train)\n",
    "svm_grid_best = svm_grid_clf.best_estimator_\n",
    "\n",
    "start_time = time.time()\n",
    "svm_grid_best.fit(X_train, y_train)\n",
    "stop_time = time.time()\n",
    "print(f\"Fit time: {stop_time - start_time} seconds\")\n",
    "pred_svm = svm_grid_best.predict(X_test)\n",
    "print(\"Train Score:\", svm_grid_best.score(X_train, y_train))\n",
    "print(\"Performance:\")\n",
    "get_all_metrics_score(pred_svm, y_test)"
   ]
  },
  {
   "cell_type": "code",
   "execution_count": 495,
   "metadata": {},
   "outputs": [
    {
     "data": {
      "text/plain": [
       "SVC(C=100, break_ties=False, cache_size=200, class_weight=None, coef0=0.0,\n",
       "    decision_function_shape='ovr', degree=3, gamma='scale', kernel='linear',\n",
       "    max_iter=-1, probability=False, random_state=None, shrinking=True,\n",
       "    tol=0.001, verbose=False)"
      ]
     },
     "execution_count": 495,
     "metadata": {},
     "output_type": "execute_result"
    }
   ],
   "source": [
    "svm_grid_best"
   ]
  },
  {
   "cell_type": "code",
   "execution_count": 447,
   "metadata": {},
   "outputs": [
    {
     "data": {
      "image/png": "[encoded data removed]",
      "text/plain": [
       "<Figure size 432x288 with 1 Axes>"
      ]
     },
     "metadata": {
      "needs_background": "light"
     },
     "output_type": "display_data"
    }
   ],
   "source": [
    "plot_learning_curve(svm_grid_best, X_train, y_train, \"Learning Curve SVM: Dataset#2 HTRU\")"
   ]
  },
  {
   "cell_type": "code",
   "execution_count": 484,
   "metadata": {},
   "outputs": [
    {
     "name": "stdout",
     "output_type": "stream",
     "text": [
      "===================\n",
      "Kernel rbf\n",
      "Train Score 0.9841534612176814\n",
      "Validation Score 0.9780433574207893\n",
      "===================\n",
      "Kernel linear\n",
      "Train Score 0.979864172524723\n",
      "Validation Score 0.9799888827126181\n",
      "===================\n",
      "Kernel poly\n",
      "Train Score 0.981174788514238\n",
      "Validation Score 0.9774874930516954\n",
      "===================\n",
      "Kernel sigmoid\n",
      "Train Score 0.8665554628857381\n",
      "Validation Score 0.8749305169538633\n"
     ]
    }
   ],
   "source": [
    "svm_clfs = []\n",
    "kernel_list = ['rbf', 'linear','poly','sigmoid']\n",
    "# using C from best params\n",
    "for i in kernel_list:\n",
    "    svm_clf = SVC(C=svm_grid_best.C, kernel=i)\n",
    "    svm_clf.fit(X_train_real, y_train_real)\n",
    "    svm_clfs.append(svm_clf)\n",
    "    print(\"===================\")\n",
    "    print(f\"Kernel {i}\")\n",
    "    print(f\"Train Score {svm_clf.score(X_train_real, y_train_real)}\")\n",
    "    print(f\"Validation Score {svm_clf.score(X_validation, y_validation)}\")\n",
    "    "
   ]
  },
  {
   "cell_type": "code",
   "execution_count": 497,
   "metadata": {},
   "outputs": [],
   "source": [
    "# how about we varying C? => what will happen?\n",
    "c_values = [ 0.001, 0.01, 0.1, 1, 10, 100]\n",
    "svm_clfs = []\n",
    "for i in c_values:\n",
    "    svm = SVC(C=i,kernel='linear')\n",
    "    svm.fit(X_train_real, y_train_real)\n",
    "    svm_clfs.append(svm)\n",
    "\n",
    "train_score = [i.score(X_train_real, y_train_real) for i in svm_clfs]\n",
    "test_score = [i.score(X_validation, y_validation) for i in svm_clfs]\n"
   ]
  },
  {
   "cell_type": "code",
   "execution_count": 498,
   "metadata": {},
   "outputs": [
    {
     "data": {
      "text/html": [
       "<div>\n",
       "<style scoped>\n",
       "    .dataframe tbody tr th:only-of-type {\n",
       "        vertical-align: middle;\n",
       "    }\n",
       "\n",
       "    .dataframe tbody tr th {\n",
       "        vertical-align: top;\n",
       "    }\n",
       "\n",
       "    .dataframe thead th {\n",
       "        text-align: right;\n",
       "    }\n",
       "</style>\n",
       "<table border=\"1\" class=\"dataframe\">\n",
       "  <thead>\n",
       "    <tr style=\"text-align: right;\">\n",
       "      <th></th>\n",
       "      <th>C</th>\n",
       "      <th>Train Score</th>\n",
       "      <th>Validation Score</th>\n",
       "    </tr>\n",
       "  </thead>\n",
       "  <tbody>\n",
       "    <tr>\n",
       "      <th>0</th>\n",
       "      <td>0.001</td>\n",
       "      <td>0.967592</td>\n",
       "      <td>0.970817</td>\n",
       "    </tr>\n",
       "    <tr>\n",
       "      <th>1</th>\n",
       "      <td>0.010</td>\n",
       "      <td>0.974503</td>\n",
       "      <td>0.975820</td>\n",
       "    </tr>\n",
       "    <tr>\n",
       "      <th>2</th>\n",
       "      <td>0.100</td>\n",
       "      <td>0.978792</td>\n",
       "      <td>0.978043</td>\n",
       "    </tr>\n",
       "    <tr>\n",
       "      <th>3</th>\n",
       "      <td>1.000</td>\n",
       "      <td>0.979864</td>\n",
       "      <td>0.979711</td>\n",
       "    </tr>\n",
       "    <tr>\n",
       "      <th>4</th>\n",
       "      <td>10.000</td>\n",
       "      <td>0.979864</td>\n",
       "      <td>0.979989</td>\n",
       "    </tr>\n",
       "    <tr>\n",
       "      <th>5</th>\n",
       "      <td>100.000</td>\n",
       "      <td>0.979864</td>\n",
       "      <td>0.979989</td>\n",
       "    </tr>\n",
       "  </tbody>\n",
       "</table>\n",
       "</div>"
      ],
      "text/plain": [
       "         C  Train Score  Validation Score\n",
       "0    0.001     0.967592          0.970817\n",
       "1    0.010     0.974503          0.975820\n",
       "2    0.100     0.978792          0.978043\n",
       "3    1.000     0.979864          0.979711\n",
       "4   10.000     0.979864          0.979989\n",
       "5  100.000     0.979864          0.979989"
      ]
     },
     "execution_count": 498,
     "metadata": {},
     "output_type": "execute_result"
    }
   ],
   "source": [
    "pd.DataFrame(zip(c_values, train_score, test_score), columns=['C', 'Train Score', 'Validation Score'])"
   ]
  },
  {
   "cell_type": "markdown",
   "metadata": {},
   "source": [
    "### Neural Networks"
   ]
  },
  {
   "cell_type": "code",
   "execution_count": 462,
   "metadata": {},
   "outputs": [
    {
     "name": "stderr",
     "output_type": "stream",
     "text": [
      "C:\\Users\\Por\\AppData\\Local\\Continuum\\anaconda3\\lib\\site-packages\\sklearn\\neural_network\\_multilayer_perceptron.py:571: ConvergenceWarning: Stochastic Optimizer: Maximum iterations (300) reached and the optimization hasn't converged yet.\n",
      "  % self.max_iter, ConvergenceWarning)\n"
     ]
    },
    {
     "name": "stdout",
     "output_type": "stream",
     "text": [
      "Fit time: 5.370636224746704 seconds\n",
      "Train Score: 0.9805687599032608\n",
      "Performance:\n",
      "SCORE\n",
      "Accuracy: 0.9781615033011681\n",
      "Precision: 0.8307984790874525\n",
      "Recall: 0.9161425576519916\n",
      "F1 Score: 0.8713858424725823\n",
      "ROC AUC: 0.9498760670396238\n"
     ]
    }
   ],
   "source": [
    "from sklearn.neural_network import MLPClassifier\n",
    "\n",
    "param_grid = [{\n",
    "    'activation': ['relu', 'logistic', 'tanh'],\n",
    "    'hidden_layer_sizes':[(10,), (10,2), (10,4), (10, 8), (10, 16), (10, 32)]\n",
    "}]\n",
    "\n",
    "\n",
    "ann_clf = MLPClassifier(solver='adam', max_iter=300, random_state=random_state)\n",
    "ann_grid_clf = GridSearchCV(ann_clf, param_grid, cv=5,\n",
    "                           scoring='accuracy', return_train_score=True)\n",
    "\n",
    "ann_grid_clf.fit(X_train, y_train)\n",
    "ann_grid_clf_best = ann_grid_clf.best_estimator_\n",
    "\n",
    "start_time = time.time()\n",
    "ann_grid_clf_best.fit(X_train, y_train)\n",
    "stop_time = time.time()\n",
    "print(f\"Fit time: {stop_time - start_time} seconds\")\n",
    "pred_ann = ann_grid_clf_best.predict(X_test)\n",
    "print(\"Train Score:\", ann_grid_clf_best.score(X_train, y_train))\n",
    "print(\"Performance:\")\n",
    "get_all_metrics_score(pred_ann, y_test)"
   ]
  },
  {
   "cell_type": "code",
   "execution_count": 481,
   "metadata": {},
   "outputs": [
    {
     "data": {
      "text/plain": [
       "MLPClassifier(activation='logistic', alpha=0.0001, batch_size='auto',\n",
       "              beta_1=0.9, beta_2=0.999, early_stopping=False, epsilon=1e-08,\n",
       "              hidden_layer_sizes=(10, 32), learning_rate='constant',\n",
       "              learning_rate_init=0.001, max_fun=15000, max_iter=300,\n",
       "              momentum=0.9, n_iter_no_change=10, nesterovs_momentum=True,\n",
       "              power_t=0.5, random_state=42, shuffle=True, solver='adam',\n",
       "              tol=0.0001, validation_fraction=0.1, verbose=False,\n",
       "              warm_start=False)"
      ]
     },
     "execution_count": 481,
     "metadata": {},
     "output_type": "execute_result"
    }
   ],
   "source": [
    "ann_grid_clf_best"
   ]
  },
  {
   "cell_type": "code",
   "execution_count": 464,
   "metadata": {},
   "outputs": [
    {
     "name": "stderr",
     "output_type": "stream",
     "text": [
      "C:\\Users\\Por\\AppData\\Local\\Continuum\\anaconda3\\lib\\site-packages\\sklearn\\neural_network\\_multilayer_perceptron.py:571: ConvergenceWarning: Stochastic Optimizer: Maximum iterations (300) reached and the optimization hasn't converged yet.\n",
      "  % self.max_iter, ConvergenceWarning)\n",
      "C:\\Users\\Por\\AppData\\Local\\Continuum\\anaconda3\\lib\\site-packages\\sklearn\\neural_network\\_multilayer_perceptron.py:571: ConvergenceWarning: Stochastic Optimizer: Maximum iterations (300) reached and the optimization hasn't converged yet.\n",
      "  % self.max_iter, ConvergenceWarning)\n",
      "C:\\Users\\Por\\AppData\\Local\\Continuum\\anaconda3\\lib\\site-packages\\sklearn\\neural_network\\_multilayer_perceptron.py:571: ConvergenceWarning: Stochastic Optimizer: Maximum iterations (300) reached and the optimization hasn't converged yet.\n",
      "  % self.max_iter, ConvergenceWarning)\n",
      "C:\\Users\\Por\\AppData\\Local\\Continuum\\anaconda3\\lib\\site-packages\\sklearn\\neural_network\\_multilayer_perceptron.py:571: ConvergenceWarning: Stochastic Optimizer: Maximum iterations (300) reached and the optimization hasn't converged yet.\n",
      "  % self.max_iter, ConvergenceWarning)\n",
      "C:\\Users\\Por\\AppData\\Local\\Continuum\\anaconda3\\lib\\site-packages\\sklearn\\neural_network\\_multilayer_perceptron.py:571: ConvergenceWarning: Stochastic Optimizer: Maximum iterations (300) reached and the optimization hasn't converged yet.\n",
      "  % self.max_iter, ConvergenceWarning)\n"
     ]
    },
    {
     "data": {
      "image/png": "[encoded data removed]",
      "text/plain": [
       "<Figure size 432x288 with 1 Axes>"
      ]
     },
     "metadata": {
      "needs_background": "light"
     },
     "output_type": "display_data"
    }
   ],
   "source": [
    "plot_learning_curve(ann_grid_clf_best, X_train, y_train, \"Learning Curve Neural Networks: Dataset#2 HTRU\")"
   ]
  },
  {
   "cell_type": "code",
   "execution_count": 465,
   "metadata": {},
   "outputs": [
    {
     "name": "stdout",
     "output_type": "stream",
     "text": [
      "===================\n",
      "Activation Function: relu\n",
      "Train Score 0.9815322292386512\n",
      "Validation Score 0.9788771539744302\n",
      "===================\n",
      "Activation Function: logistic\n",
      "Train Score 0.9804599070654116\n",
      "Validation Score 0.980544747081712\n",
      "===================\n",
      "Activation Function: tanh\n",
      "Train Score 0.979864172524723\n",
      "Validation Score 0.9794330183435241\n"
     ]
    }
   ],
   "source": [
    "ann_clfs = []\n",
    "activation_list = ['relu', 'logistic', 'tanh']\n",
    "# using C from best params\n",
    "for i in activation_list:\n",
    "    ann_clf = MLPClassifier(activation=i, hidden_layer_sizes=ann_grid_clf_best.hidden_layer_sizes, solver='adam', max_iter=300, random_state=random_state)\n",
    "    ann_clf.fit(X_train_real, y_train_real)\n",
    "    ann_clfs.append(ann_clf)\n",
    "    print(\"===================\")\n",
    "    print(f\"Activation Function: {i}\")\n",
    "    print(f\"Train Score {ann_clf.score(X_train_real, y_train_real)}\")\n",
    "    print(f\"Validation Score {ann_clf.score(X_validation, y_validation)}\")\n",
    "    "
   ]
  },
  {
   "cell_type": "code",
   "execution_count": 482,
   "metadata": {},
   "outputs": [
    {
     "data": {
      "image/png": "[encoded data removed]",
      "text/plain": [
       "<Figure size 432x288 with 1 Axes>"
      ]
     },
     "metadata": {
      "needs_background": "light"
     },
     "output_type": "display_data"
    }
   ],
   "source": [
    "# For number of hidden units in the second layers\n",
    "acc_train = []\n",
    "acc_test = []\n",
    "# clfs = []\n",
    "hidden_units = [2**n for n in range(0, 8, 1)]\n",
    "# hidden_units =\n",
    "for i in hidden_units:\n",
    "    if i == 0:\n",
    "        sizes = (10,)\n",
    "    else:\n",
    "        sizes = (10,i)\n",
    "    clf = MLPClassifier(activation='logistic', hidden_layer_sizes=sizes,max_iter=300, solver='adam', random_state=random_state)\n",
    "    clf.fit(X_train_real, y_train_real)\n",
    "    y_pred = clf.predict(X_validation)\n",
    "    test_score = accuracy_score(y_validation, y_pred)\n",
    "    acc_train.append(clf.score(X_train_real, y_train_real))\n",
    "    acc_test.append(test_score)\n",
    "    \n",
    "fig, ax = plt.subplots()\n",
    "ax.plot(list(hidden_units), acc_train, \"b-\", label='Training Sets')\n",
    "ax.plot(list(hidden_units), acc_test, \"r-\", label='Validation Sets')\n",
    "ax.set_xlabel('Number of Hidden Units')\n",
    "ax.set_ylabel('Mean Accuracy')\n",
    "ax.set_title('Learning Curve: Number of Hidden Units for Datasets #2 HTRU')\n",
    "ax.legend()\n",
    "plt.show(fig)"
   ]
  },
  {
   "cell_type": "code",
   "execution_count": 526,
   "metadata": {},
   "outputs": [
    {
     "name": "stderr",
     "output_type": "stream",
     "text": [
      "C:\\Users\\Por\\AppData\\Local\\Continuum\\anaconda3\\lib\\site-packages\\sklearn\\neural_network\\_multilayer_perceptron.py:571: ConvergenceWarning: Stochastic Optimizer: Maximum iterations (1) reached and the optimization hasn't converged yet.\n",
      "  % self.max_iter, ConvergenceWarning)\n"
     ]
    },
    {
     "data": {
      "image/png": "[encoded data removed]",
      "text/plain": [
       "<Figure size 432x288 with 1 Axes>"
      ]
     },
     "metadata": {
      "needs_background": "light"
     },
     "output_type": "display_data"
    }
   ],
   "source": [
    "clf = MLPClassifier(activation=ann_grid_clf_best.activation, hidden_layer_sizes=ann_grid_clf_best.hidden_layer_sizes, learning_rate_init=0.001, random_state=1, max_iter=1, solver='adam', warm_start=True)\n",
    "acc_train = []\n",
    "acc_test = []\n",
    "# clfs = []\n",
    "times_range = range(50)\n",
    "for i in times_range:\n",
    "    clf.fit(X_train_real, y_train_real)\n",
    "    y_pred = clf.predict(X_validation)\n",
    "    test_score = accuracy_score(y_validation, y_pred)\n",
    "    acc_train.append(clf.score(X_train_real, y_train_real))\n",
    "    acc_test.append(test_score)\n",
    "    \n",
    "fig, ax = plt.subplots()\n",
    "ax.plot( list(times_range), acc_train, \"b-\", label='Training Sets')\n",
    "ax.plot(list(times_range), acc_test, \"r-\", label='Validation Sets')\n",
    "ax.set_xlabel('Epochs')\n",
    "ax.set_ylabel('Mean Accuracy')\n",
    "ax.set_title('Learning Curve Neural Network: Dataset#2 HTRU')\n",
    "ax.legend()\n",
    "plt.show(fig)"
   ]
  }
 ],
 "metadata": {
  "kernelspec": {
   "display_name": "Python 3",
   "language": "python",
   "name": "python3"
  },
  "language_info": {
   "codemirror_mode": {
    "name": "ipython",
    "version": 3
   },
   "file_extension": ".py",
   "mimetype": "text/x-python",
   "name": "python",
   "nbconvert_exporter": "python",
   "pygments_lexer": "ipython3",
   "version": "3.6.10"
  }
 },
 "nbformat": 4,
 "nbformat_minor": 4
}
