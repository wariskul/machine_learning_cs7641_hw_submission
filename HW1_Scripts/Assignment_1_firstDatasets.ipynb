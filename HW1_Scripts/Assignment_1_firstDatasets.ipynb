{
 "cells": [
  {
   "cell_type": "code",
   "execution_count": 255,
   "metadata": {},
   "outputs": [],
   "source": [
    "import numpy as np\n",
    "import pandas as pd\n",
    "from sklearn.datasets import load_svmlight_file\n",
    "\n",
    "bank_data = pd.read_csv('bank-additional-full.csv', sep=';')\n",
    "# bank_data_n = pd.read_csv('datasets/bank-additional/bank-additional.csv', sep=';')\n",
    "bank_data['labels'] = bank_data['y'].apply(lambda x: 0 if x == 'no' else 1)"
   ]
  },
  {
   "cell_type": "code",
   "execution_count": 256,
   "metadata": {},
   "outputs": [
    {
     "data": {
      "text/plain": [
       "no     36548\n",
       "yes     4640\n",
       "Name: y, dtype: int64"
      ]
     },
     "execution_count": 256,
     "metadata": {},
     "output_type": "execute_result"
    }
   ],
   "source": [
    "bank_data['y'].value_counts()"
   ]
  },
  {
   "cell_type": "markdown",
   "metadata": {},
   "source": [
    "### Preprocessing"
   ]
  },
  {
   "cell_type": "code",
   "execution_count": 35,
   "metadata": {},
   "outputs": [
    {
     "name": "stderr",
     "output_type": "stream",
     "text": [
      "C:\\Users\\Por\\AppData\\Local\\Continuum\\anaconda3\\lib\\site-packages\\ipykernel_launcher.py:6: SettingWithCopyWarning: \n",
      "A value is trying to be set on a copy of a slice from a DataFrame.\n",
      "Try using .loc[row_indexer,col_indexer] = value instead\n",
      "\n",
      "See the caveats in the documentation: https://pandas.pydata.org/pandas-docs/stable/user_guide/indexing.html#returning-a-view-versus-a-copy\n",
      "  \n",
      "C:\\Users\\Por\\AppData\\Local\\Continuum\\anaconda3\\lib\\site-packages\\ipykernel_launcher.py:7: SettingWithCopyWarning: \n",
      "A value is trying to be set on a copy of a slice from a DataFrame.\n",
      "Try using .loc[row_indexer,col_indexer] = value instead\n",
      "\n",
      "See the caveats in the documentation: https://pandas.pydata.org/pandas-docs/stable/user_guide/indexing.html#returning-a-view-versus-a-copy\n",
      "  import sys\n",
      "C:\\Users\\Por\\AppData\\Local\\Continuum\\anaconda3\\lib\\site-packages\\ipykernel_launcher.py:8: SettingWithCopyWarning: \n",
      "A value is trying to be set on a copy of a slice from a DataFrame.\n",
      "Try using .loc[row_indexer,col_indexer] = value instead\n",
      "\n",
      "See the caveats in the documentation: https://pandas.pydata.org/pandas-docs/stable/user_guide/indexing.html#returning-a-view-versus-a-copy\n",
      "  \n"
     ]
    }
   ],
   "source": [
    "from sklearn.preprocessing import OneHotEncoder\n",
    "#  Change no to unknown\n",
    "#  Categorical Data\n",
    "catg_col = ['job', 'marital', 'education', 'default', 'housing', 'loan', 'contact', 'month', 'day_of_week', 'poutcome']\n",
    "bank_data_catg = bank_data[catg_col]\n",
    "bank_data_catg['housing'] = bank_data_catg['housing'].apply(lambda x: 'no' if x == 'unknown' else x)\n",
    "bank_data_catg['loan'] = bank_data_catg['loan'].apply(lambda x: 'no' if x == 'unknown' else x)\n",
    "bank_data_catg['default'] = bank_data_catg['default'].apply(lambda x: 'no' if x == 'unknown' else x)\n",
    "\n",
    "job_encoder = OneHotEncoder()\n",
    "bank_catg_onehot = job_encoder.fit_transform(bank_data_catg)"
   ]
  },
  {
   "cell_type": "markdown",
   "metadata": {},
   "source": [
    "### Standard Scaler"
   ]
  },
  {
   "cell_type": "code",
   "execution_count": 38,
   "metadata": {},
   "outputs": [],
   "source": [
    "from sklearn.preprocessing import StandardScaler\n",
    "\n",
    "numerical_col = list(set(bank_data.drop(['y','labels'],axis=1).columns) - set(catg_col))\n",
    "scaling = StandardScaler()\n",
    "bank_numer = bank_data[numerical_col]\n",
    "bank_numer_scaled = scaling.fit_transform(bank_numer)"
   ]
  },
  {
   "cell_type": "code",
   "execution_count": 221,
   "metadata": {},
   "outputs": [],
   "source": [
    "from sklearn.metrics import accuracy_score, precision_score, recall_score, roc_auc_score, f1_score\n",
    "from sklearn.model_selection import learning_curve\n",
    "import matplotlib.pyplot as plt\n",
    "\n",
    "def get_all_metrics_score(predict_value, real_value):\n",
    "    acc_scr = accuracy_score(predict_value, real_value)\n",
    "    pre_scr = precision_score(predict_value, real_value)\n",
    "    recall_scr = recall_score(predict_value, real_value)\n",
    "    roc_scr = roc_auc_score(predict_value, real_value)\n",
    "    f1_scr = f1_score(predict_value, real_value)\n",
    "    print(\"SCORE\")\n",
    "    print(\"Accuracy:\", acc_scr)\n",
    "    print(\"Precision:\", pre_scr)\n",
    "    print(\"Recall:\", recall_scr)\n",
    "    print(\"F1 Score:\", f1_scr)\n",
    "    print(\"ROC AUC:\", roc_scr)\n",
    "\n",
    "def plot_learning_curve(model, X, y, title='Learning Curve, for Training Sets and Validation Sets'):\n",
    "    \n",
    "    train_sizes, train_scores, valid_scores = learning_curve(model, X, y, \n",
    "                                                             train_sizes=np.linspace(0.1, 1.0, 10),cv=5, scoring='accuracy')\n",
    "    mean_train_scores = np.mean(train_scores,axis=1)\n",
    "    mean_valid_scores = np.mean(valid_scores,axis=1)\n",
    "    fig, ax = plt.subplots()\n",
    "    ax.plot(train_sizes, mean_train_scores, \"b-\", label='Training Sets')\n",
    "    ax.plot(train_sizes, mean_valid_scores, \"r-\", label='Validation Sets')\n",
    "    ax.set_xlabel('Training Size')\n",
    "    ax.set_ylabel('Mean Accuracy')\n",
    "    ax.set_title(title)\n",
    "    ax.legend()\n",
    "    plt.show(fig)"
   ]
  },
  {
   "cell_type": "markdown",
   "metadata": {},
   "source": [
    "### Combine"
   ]
  },
  {
   "cell_type": "code",
   "execution_count": 40,
   "metadata": {},
   "outputs": [],
   "source": [
    "features = np.concatenate((bank_numer_scaled,bank_catg_onehot.toarray()),axis=1)\n",
    "labels = bank_data['labels']"
   ]
  },
  {
   "cell_type": "markdown",
   "metadata": {},
   "source": [
    "Start Preping some normal ML models"
   ]
  },
  {
   "cell_type": "code",
   "execution_count": 171,
   "metadata": {},
   "outputs": [],
   "source": [
    "# from sklearn.preprocessing import MinMaxScaler, OneHotEncoder\n",
    "from sklearn.tree import DecisionTreeClassifier\n",
    "from sklearn.neighbors import KNeighborsClassifier \n",
    "from sklearn.ensemble import AdaBoostClassifier, RandomForestClassifier\n",
    "from sklearn.svm import SVC, LinearSVC\n",
    "from sklearn.model_selection import train_test_split, GridSearchCV\n",
    "\n",
    "random_state=42\n",
    "X_train, X_test, y_train, y_test = train_test_split(features, labels, test_size=0.33, random_state=random_state)\n",
    "X_train_real, X_validation, y_train_real, y_validation = train_test_split(X_train, y_train, test_size=0.3, random_state=random_state)"
   ]
  },
  {
   "cell_type": "markdown",
   "metadata": {},
   "source": [
    "### Decision Tree"
   ]
  },
  {
   "cell_type": "code",
   "execution_count": 222,
   "metadata": {},
   "outputs": [
    {
     "name": "stdout",
     "output_type": "stream",
     "text": [
      "Fit time: 0.37699460983276367 seconds\n",
      "Train Score: 0.917593766986773\n",
      "Performance:\n",
      "SCORE\n",
      "Accuracy: 0.9159126020745972\n",
      "Precision: 0.5985686402081978\n",
      "Recall: 0.636237897648686\n",
      "F1 Score: 0.6168286959436808\n",
      "ROC AUC: 0.7927217314044039\n"
     ]
    }
   ],
   "source": [
    "# Train test split\n",
    "from sklearn.model_selection import train_test_split\n",
    "\n",
    "# X_train, X_test, y_train, y_test = train_test_split(features, labels, test_size=0.33, random_state=42)\n",
    "\n",
    "param_grid = [\n",
    "   {'ccp_alpha': [0, 0.0005,0.001, 0.0015 ,0.002, 0.01, 0.02],\n",
    "    'criterion':['gini', 'entropy']\n",
    "   }\n",
    "]\n",
    "# Try GRID SEARCH\n",
    "tree_clf = DecisionTreeClassifier(random_state=random_state)\n",
    "tree_grid_clf = GridSearchCV(tree_clf, param_grid, cv=5,\n",
    "                            scoring='accuracy', return_train_score=True)\n",
    "tree_grid_clf.fit(X_train, y_train)\n",
    "best_tree = tree_grid_clf.best_estimator_\n",
    "#  Record fit time\n",
    "start_time = time.time()\n",
    "best_tree.fit(X_train, y_train)\n",
    "stop_time = time.time()\n",
    "print(f\"Fit time: {stop_time - start_time} seconds\")\n",
    "pred_tree = best_tree.predict(X_test)\n",
    "print(\"Train Score:\", best_tree.score(X_train, y_train))\n",
    "print(\"Performance:\")\n",
    "get_all_metrics_score(pred_tree, y_test)"
   ]
  },
  {
   "cell_type": "code",
   "execution_count": 223,
   "metadata": {},
   "outputs": [
    {
     "data": {
      "text/plain": [
       "DecisionTreeClassifier(ccp_alpha=0.0005, class_weight=None, criterion='gini',\n",
       "                       max_depth=None, max_features=None, max_leaf_nodes=None,\n",
       "                       min_impurity_decrease=0.0, min_impurity_split=None,\n",
       "                       min_samples_leaf=1, min_samples_split=2,\n",
       "                       min_weight_fraction_leaf=0.0, presort='deprecated',\n",
       "                       random_state=42, splitter='best')"
      ]
     },
     "execution_count": 223,
     "metadata": {},
     "output_type": "execute_result"
    }
   ],
   "source": [
    "best_tree"
   ]
  },
  {
   "cell_type": "code",
   "execution_count": 220,
   "metadata": {},
   "outputs": [
    {
     "data": {
      "image/png": "[encoded data removed]",
      "text/plain": [
       "<Figure size 432x288 with 1 Axes>"
      ]
     },
     "metadata": {
      "needs_background": "light"
     },
     "output_type": "display_data"
    }
   ],
   "source": [
    "plot_learning_curve(best_tree, X_train, y_train, 'Learning Curve for Dataset#1 Bank Marketing')"
   ]
  },
  {
   "cell_type": "code",
   "execution_count": 112,
   "metadata": {},
   "outputs": [
    {
     "name": "stdout",
     "output_type": "stream",
     "text": [
      "SCORE\n",
      "Accuracy: 0.8866328257191202\n",
      "Precision: 0.5094339622641509\n",
      "Recall: 0.49872611464968153\n",
      "F1 Score: 0.5040231734792405\n",
      "ROC AUC: 0.7180064907441205\n",
      "Train Accuracy 1.0\n"
     ]
    }
   ],
   "source": [
    "# Unprune tree\n",
    "unpruned_tree = DecisionTreeClassifier(ccp_alpha=0, random_state=random_state)\n",
    "unpruned_tree.fit(X_train, y_train)\n",
    "pred_unpruned_tree = unpruned_tree.predict(X_test)\n",
    "get_all_metrics_score(pred_unpruned_tree, y_test)\n",
    "print('Train Accuracy', unpruned_tree.score(X_train, y_train))"
   ]
  },
  {
   "cell_type": "code",
   "execution_count": 113,
   "metadata": {},
   "outputs": [
    {
     "name": "stdout",
     "output_type": "stream",
     "text": [
      "SCORE\n",
      "Accuracy: 0.9129699109835945\n",
      "Precision: 0.538711776187378\n",
      "Recall: 0.6359447004608295\n",
      "F1 Score: 0.5833039802747446\n",
      "ROC AUC: 0.7891301079393075\n",
      "Train Accuracy 0.9151295524551549\n"
     ]
    }
   ],
   "source": [
    "# Optimal Prune tree\n",
    "pred_best_tree = best_tree.predict(X_test)\n",
    "get_all_metrics_score(pred_best_tree, y_test)\n",
    "print('Train Accuracy', best_tree.score(X_train, y_train))"
   ]
  },
  {
   "cell_type": "code",
   "execution_count": 215,
   "metadata": {},
   "outputs": [
    {
     "name": "stdout",
     "output_type": "stream",
     "text": [
      "SCORE\n",
      "Accuracy: 0.90274405944236\n",
      "Precision: 0.4072869225764476\n",
      "Recall: 0.6036644165863067\n",
      "F1 Score: 0.4864024864024864\n",
      "ROC AUC: 0.7655547313896809\n",
      "Train Accuracy 0.9038956332668961\n"
     ]
    }
   ],
   "source": [
    "# Extreme Prune Tree\n",
    "pruned_tree = DecisionTreeClassifier(ccp_alpha=0.01, random_state=random_state)\n",
    "pruned_tree.fit(X_train, y_train)\n",
    "pred_extreme_pruned_tree = pruned_tree.predict(X_test)\n",
    "get_all_metrics_score(pred_extreme_pruned_tree, y_test)\n",
    "print('Train Accuracy', pruned_tree.score(X_train, y_train))"
   ]
  },
  {
   "cell_type": "markdown",
   "metadata": {},
   "source": [
    "### Pruning Graph"
   ]
  },
  {
   "cell_type": "code",
   "execution_count": 216,
   "metadata": {},
   "outputs": [
    {
     "data": {
      "image/png": "[encoded data removed]",
      "text/plain": [
       "<Figure size 432x288 with 1 Axes>"
      ]
     },
     "metadata": {
      "needs_background": "light"
     },
     "output_type": "display_data"
    }
   ],
   "source": [
    "dtree_clfs = []\n",
    "for i in np.linspace(0,  0.005, 11 ):\n",
    "    dtree = DecisionTreeClassifier(ccp_alpha=i, random_state=random_state)\n",
    "    dtree.fit(X_train_real, y_train_real)\n",
    "    dtree_clfs.append(dtree)\n",
    "\n",
    "train_score = [i.score(X_train_real, y_train_real) for i in dtree_clfs]\n",
    "test_score = [i.score(X_validation, y_validation) for i in dtree_clfs]\n",
    "\n",
    "fig, ax = plt.subplots()\n",
    "ax.plot(np.linspace(0,  0.005, 11 ), train_score, \"b-\", label='Training Sets')\n",
    "ax.plot(np.linspace(0,  0.005, 11 ), test_score, \"r-\", label='Validation Sets')\n",
    "ax.set_xlabel('Pruning Variable')\n",
    "ax.set_ylabel('Mean Accuracy')\n",
    "ax.set_title('Pruning Variable: Dataset #1 Bank Marketing')\n",
    "ax.legend()\n",
    "plt.show(fig)"
   ]
  },
  {
   "cell_type": "markdown",
   "metadata": {},
   "source": [
    "###  KNN"
   ]
  },
  {
   "cell_type": "code",
   "execution_count": 224,
   "metadata": {},
   "outputs": [
    {
     "name": "stdout",
     "output_type": "stream",
     "text": [
      "Fit time: 0.6891229152679443 seconds\n",
      "Train Score: 0.9187896358035876\n",
      "Performance:\n",
      "SCORE\n",
      "Accuracy: 0.9056867505333628\n",
      "Precision: 0.39947950553025374\n",
      "Recall: 0.6310380267214799\n",
      "F1 Score: 0.48924302788844615\n",
      "ROC AUC: 0.7789500751673961\n"
     ]
    }
   ],
   "source": [
    "knn_clf = KNeighborsClassifier()\n",
    "param_grid = [\n",
    "   {'n_neighbors':[ 9, 10, 11, 12, 13, 14, 15],\n",
    "    'p':[1 , 2]}\n",
    "]\n",
    "knn_gird_search = GridSearchCV(knn_clf, param_grid, cv=5, scoring='accuracy', return_train_score=True)\n",
    "knn_gird_search.fit(X_train, y_train)\n",
    "knn_best_model = knn_gird_search.best_estimator_\n",
    "\n",
    "start_time = time.time()\n",
    "knn_best_model.fit(X_train, y_train)\n",
    "stop_time = time.time()\n",
    "print(f\"Fit time: {stop_time - start_time} seconds\")\n",
    "pred_knn = knn_best_model.predict(X_test)\n",
    "print(\"Train Score:\", knn_best_model.score(X_train, y_train))\n",
    "print(\"Performance:\")\n",
    "get_all_metrics_score(pred_knn, y_test)"
   ]
  },
  {
   "cell_type": "code",
   "execution_count": 225,
   "metadata": {},
   "outputs": [
    {
     "data": {
      "text/plain": [
       "KNeighborsClassifier(algorithm='auto', leaf_size=30, metric='minkowski',\n",
       "                     metric_params=None, n_jobs=None, n_neighbors=11, p=2,\n",
       "                     weights='uniform')"
      ]
     },
     "execution_count": 225,
     "metadata": {},
     "output_type": "execute_result"
    }
   ],
   "source": [
    "knn_best_model"
   ]
  },
  {
   "cell_type": "code",
   "execution_count": 226,
   "metadata": {
    "scrolled": true
   },
   "outputs": [
    {
     "data": {
      "image/png": "[encoded data removed]",
      "text/plain": [
       "<Figure size 432x288 with 1 Axes>"
      ]
     },
     "metadata": {
      "needs_background": "light"
     },
     "output_type": "display_data"
    }
   ],
   "source": [
    "plot_learning_curve(knn_best_model, X_train, y_train, 'Learning Curve KNN: Datasets#1 Bank Marketing')"
   ]
  },
  {
   "cell_type": "code",
   "execution_count": 227,
   "metadata": {},
   "outputs": [
    {
     "data": {
      "image/png": "[encoded data removed]",
      "text/plain": [
       "<Figure size 432x288 with 1 Axes>"
      ]
     },
     "metadata": {
      "needs_background": "light"
     },
     "output_type": "display_data"
    }
   ],
   "source": [
    "# K Learning Graph\n",
    "knn_clfs = []\n",
    "for i in range(1, 41):\n",
    "    knn = KNeighborsClassifier(n_neighbors=i)\n",
    "    knn.fit(X_train_real, y_train_real)\n",
    "    knn_clfs.append(knn)\n",
    "    \n",
    "train_score = [i.score(X_train_real, y_train_real) for i in knn_clfs]\n",
    "test_score = [i.score(X_validation, y_validation) for i in knn_clfs]\n",
    "\n",
    "fig, ax = plt.subplots()\n",
    "ax.plot(range(1, 41) , train_score, \"b-\", label='Training Sets')\n",
    "ax.plot(range(1, 41) , test_score, \"r-\", label='Validation Sets')\n",
    "ax.set_xlabel('K Variables')\n",
    "ax.set_ylabel('Mean Accuracy')\n",
    "ax.set_title('Learning Curve, for K variables: Datasets #1 Bank Marketing')\n",
    "ax.legend()\n",
    "plt.show(fig)"
   ]
  },
  {
   "cell_type": "code",
   "execution_count": 266,
   "metadata": {},
   "outputs": [
    {
     "name": "stdout",
     "output_type": "stream",
     "text": [
      "Train Score [1.0, 0.9187896358035876, 0.9100199311469469, 0.9081717702482334]\n",
      "Test Score [0.8839108364599426, 0.9056867505333628, 0.9050982123151622, 0.9054660487015376]\n"
     ]
    }
   ],
   "source": [
    "# Get example score for K = 1, 11 (Optimal) and 40, 60\n",
    "knn_clfs_n = []\n",
    "for i in [1, 11, 40, 60]:\n",
    "    knn = KNeighborsClassifier(n_neighbors=i)\n",
    "    knn.fit(X_train, y_train)\n",
    "    knn_clfs_n.append(knn)\n",
    "    \n",
    "train_score_n = [i.score(X_train, y_train) for i in knn_clfs_n]\n",
    "test_score_n = [i.score(X_test, y_test) for i in knn_clfs_n]\n",
    "print(\"Train Score\", train_score_n)\n",
    "print(\"Test Score\", test_score_n)"
   ]
  },
  {
   "cell_type": "markdown",
   "metadata": {},
   "source": [
    "### Boosting"
   ]
  },
  {
   "cell_type": "code",
   "execution_count": 229,
   "metadata": {},
   "outputs": [
    {
     "name": "stdout",
     "output_type": "stream",
     "text": [
      "Fit time: 167.62713170051575 seconds\n",
      "Train Score: 0.9185722051096213\n",
      "Performance:\n",
      "SCORE\n",
      "Accuracy: 0.9127492091517693\n",
      "Precision: 0.5283018867924528\n",
      "Recall: 0.6378633150039277\n",
      "F1 Score: 0.5779359430604982\n",
      "ROC AUC: 0.7895079562032625\n"
     ]
    }
   ],
   "source": [
    "param_grid =  [{'base_estimator__ccp_alpha':[0, 0.0005,0.001, 0.0015 ,0.002, 0.01, 0.02]}]\n",
    "\n",
    "dtree = DecisionTreeClassifier()\n",
    "\n",
    "ada_clf =  AdaBoostClassifier(DecisionTreeClassifier(),\n",
    "                          n_estimators=300, random_state=random_state)\n",
    "\n",
    "ada_grid_clf = GridSearchCV(ada_clf, param_grid, cv=5,\n",
    "                            scoring='accuracy', return_train_score=True)\n",
    "ada_grid_clf.fit(X_train, y_train)\n",
    "ada_grid_best = ada_grid_clf.best_estimator_\n",
    "\n",
    "start_time = time.time()\n",
    "ada_grid_best.fit(X_train, y_train)\n",
    "stop_time = time.time()\n",
    "print(f\"Fit time: {stop_time - start_time} seconds\")\n",
    "pred_ada = ada_grid_best.predict(X_test)\n",
    "print(\"Train Score:\", ada_grid_best.score(X_train, y_train))\n",
    "print(\"Performance:\")\n",
    "get_all_metrics_score(pred_ada, y_test)"
   ]
  },
  {
   "cell_type": "code",
   "execution_count": 230,
   "metadata": {},
   "outputs": [
    {
     "data": {
      "text/plain": [
       "AdaBoostClassifier(algorithm='SAMME.R',\n",
       "                   base_estimator=DecisionTreeClassifier(ccp_alpha=0.001,\n",
       "                                                         class_weight=None,\n",
       "                                                         criterion='gini',\n",
       "                                                         max_depth=None,\n",
       "                                                         max_features=None,\n",
       "                                                         max_leaf_nodes=None,\n",
       "                                                         min_impurity_decrease=0.0,\n",
       "                                                         min_impurity_split=None,\n",
       "                                                         min_samples_leaf=1,\n",
       "                                                         min_samples_split=2,\n",
       "                                                         min_weight_fraction_leaf=0.0,\n",
       "                                                         presort='deprecated',\n",
       "                                                         random_state=None,\n",
       "                                                         splitter='best'),\n",
       "                   learning_rate=1.0, n_estimators=300, random_state=42)"
      ]
     },
     "execution_count": 230,
     "metadata": {},
     "output_type": "execute_result"
    }
   ],
   "source": [
    "ada_grid_best"
   ]
  },
  {
   "cell_type": "code",
   "execution_count": 231,
   "metadata": {},
   "outputs": [
    {
     "data": {
      "image/png": "[encoded data removed]",
      "text/plain": [
       "<Figure size 432x288 with 1 Axes>"
      ]
     },
     "metadata": {
      "needs_background": "light"
     },
     "output_type": "display_data"
    }
   ],
   "source": [
    "plot_learning_curve(ada_grid_best, X_train, y_train, 'Learning Curve Boosting: Datasets #1 Bank Marketing')"
   ]
  },
  {
   "cell_type": "code",
   "execution_count": 247,
   "metadata": {},
   "outputs": [
    {
     "name": "stdout",
     "output_type": "stream",
     "text": [
      "SCORE\n",
      "Accuracy: 0.8873052301002536\n",
      "Precision: 0.5277185501066098\n",
      "Recall: 0.5025380710659898\n",
      "F1 Score: 0.514820592823713\n",
      "ROC AUC: 0.7209016102519421\n",
      "None\n",
      "1.0\n"
     ]
    }
   ],
   "source": [
    "# NO prune\n",
    "dtree = DecisionTreeClassifier(ccp_alpha=0)\n",
    "\n",
    "ada_clf =  AdaBoostClassifier(dtree,\n",
    "                          n_estimators=300, random_state=random_state)\n",
    "\n",
    "ada_clf.fit(X_train_real, y_train_real)\n",
    "# ada_grid_best = ada_grid_clf.best_estimator_\n",
    "pred_ada_noprune = ada_clf.predict(X_validation)\n",
    "print(get_all_metrics_score(pred_ada_noprune, y_validation))\n",
    "print(ada_clf.score(X_train_real, y_train_real))"
   ]
  },
  {
   "cell_type": "code",
   "execution_count": 248,
   "metadata": {},
   "outputs": [
    {
     "name": "stdout",
     "output_type": "stream",
     "text": [
      "SCORE\n",
      "Accuracy: 0.9073559608648387\n",
      "Precision: 0.40831556503198296\n",
      "Recall: 0.6436974789915967\n",
      "F1 Score: 0.4996738421395957\n",
      "ROC AUC: 0.785734736372425\n",
      "0.90954883131002\n",
      "Train Score 0.9104887140194657\n"
     ]
    }
   ],
   "source": [
    "# Extreme prune\n",
    "dtree = DecisionTreeClassifier(ccp_alpha=0.01)\n",
    "\n",
    "ada_clf =  AdaBoostClassifier(dtree,\n",
    "                          n_estimators=300, random_state=random_state)\n",
    "\n",
    "ada_clf.fit(X_train_real, y_train_real)\n",
    "# ada_grid_best = ada_grid_clf.best_estimator_\n",
    "pred_ada_noprune = ada_clf.predict(X_validation)\n",
    "get_all_metrics_score(pred_ada_noprune, y_validation)\n",
    "print(ada_clf.score(X_train, y_train))\n",
    "print('Train Score', ada_clf.score(X_train_real, y_train_real))"
   ]
  },
  {
   "cell_type": "code",
   "execution_count": 249,
   "metadata": {},
   "outputs": [
    {
     "name": "stdout",
     "output_type": "stream",
     "text": [
      "SCORE\n",
      "Accuracy: 0.9034907597535934\n",
      "Precision: 0.44136460554371004\n",
      "Recall: 0.6008708272859217\n",
      "F1 Score: 0.5089121081745545\n",
      "ROC AUC: 0.7659163095586393\n",
      "None\n",
      "Train Score 0.9063988403396148\n"
     ]
    }
   ],
   "source": [
    "# Extra Extreme prune\n",
    "dtree = DecisionTreeClassifier(ccp_alpha=0.02)\n",
    "\n",
    "ada_clf =  AdaBoostClassifier(dtree,\n",
    "                          n_estimators=300, random_state=random_state)\n",
    "\n",
    "ada_clf.fit(X_train_real, y_train_real)\n",
    "# ada_grid_best = ada_grid_clf.best_estimator_\n",
    "pred_ada_noprune = ada_clf.predict(X_validation)\n",
    "print(get_all_metrics_score(pred_ada_noprune, y_validation))\n",
    "print('Train Score', ada_clf.score(X_train_real, y_train_real))"
   ]
  },
  {
   "cell_type": "code",
   "execution_count": 234,
   "metadata": {},
   "outputs": [
    {
     "data": {
      "image/png": "[encoded data removed]",
      "text/plain": [
       "<Figure size 432x288 with 1 Axes>"
      ]
     },
     "metadata": {
      "needs_background": "light"
     },
     "output_type": "display_data"
    }
   ],
   "source": [
    "# Pruning Graph for Boosting!!\n",
    "boosting_clfs = []\n",
    "prune_size = np.linspace(0,  0.04, 11 )\n",
    "for i in prune_size:\n",
    "    dtree = DecisionTreeClassifier(ccp_alpha=i)\n",
    "    ada_clf = AdaBoostClassifier(dtree,\n",
    "                          n_estimators=300, random_state=random_state)\n",
    "    ada_clf.fit(X_train_real, y_train_real)\n",
    "    boosting_clfs.append(ada_clf)\n",
    "\n",
    "train_score_ada = [i.score(X_train_real, y_train_real) for i in boosting_clfs]\n",
    "test_score_ada = [i.score(X_validation, y_validation) for i in boosting_clfs]\n",
    "\n",
    "fig, ax = plt.subplots()\n",
    "ax.plot(prune_size, train_score_ada, \"b-\", label='Training Sets')\n",
    "ax.plot(prune_size, test_score_ada, \"r-\", label='Validation Sets')\n",
    "ax.set_xlabel('Pruning Variable (with Boosting)')\n",
    "ax.set_ylabel('Mean Accuracy')\n",
    "ax.set_title('Learning Curve: for Pruning Variable with Boosting, Dataset#1 Bank Marketing')\n",
    "ax.legend()\n",
    "plt.show(fig)"
   ]
  },
  {
   "cell_type": "markdown",
   "metadata": {},
   "source": [
    "### SVM"
   ]
  },
  {
   "cell_type": "code",
   "execution_count": 236,
   "metadata": {},
   "outputs": [
    {
     "name": "stdout",
     "output_type": "stream",
     "text": [
      "Fit time: 23.08003330230713 seconds\n",
      "Train Score: 0.9221960500090596\n",
      "Performance:\n",
      "SCORE\n",
      "Accuracy: 0.9114249981608181\n",
      "Precision: 0.40793754066363047\n",
      "Recall: 0.6807817589576547\n",
      "F1 Score: 0.5101708706265257\n",
      "ROC AUC: 0.8044849451353929\n"
     ]
    }
   ],
   "source": [
    "param_grid = [{\n",
    "    'kernel': ['rbf', 'linear','poly','sigmoid'],\n",
    "    'C': [0.001,0.01, 0.1, 1, 10, 100]\n",
    "}]\n",
    "\n",
    "svm_clf = SVC()\n",
    "# svm_clf = SVC(C=1)\n",
    "svm_grid_clf = GridSearchCV(svm_clf, param_grid, cv=5,\n",
    "                            scoring='accuracy', return_train_score=True)\n",
    "\n",
    "svm_grid_clf.fit(X_train, y_train)\n",
    "svm_grid_best = svm_grid_clf.best_estimator_\n",
    "\n",
    "start_time = time.time()\n",
    "svm_grid_best.fit(X_train, y_train)\n",
    "stop_time = time.time()\n",
    "print(f\"Fit time: {stop_time - start_time} seconds\")\n",
    "pred_svm = svm_grid_best.predict(X_test)\n",
    "print(\"Train Score:\", svm_grid_best.score(X_train, y_train))\n",
    "print(\"Performance:\")\n",
    "get_all_metrics_score(pred_svm, y_test)"
   ]
  },
  {
   "cell_type": "code",
   "execution_count": 237,
   "metadata": {},
   "outputs": [
    {
     "data": {
      "text/plain": [
       "SVC(C=1, break_ties=False, cache_size=200, class_weight=None, coef0=0.0,\n",
       "    decision_function_shape='ovr', degree=3, gamma='scale', kernel='rbf',\n",
       "    max_iter=-1, probability=False, random_state=None, shrinking=True,\n",
       "    tol=0.001, verbose=False)"
      ]
     },
     "execution_count": 237,
     "metadata": {},
     "output_type": "execute_result"
    }
   ],
   "source": [
    "svm_grid_best"
   ]
  },
  {
   "cell_type": "code",
   "execution_count": 238,
   "metadata": {},
   "outputs": [
    {
     "data": {
      "image/png": "[encoded data removed]",
      "text/plain": [
       "<Figure size 432x288 with 1 Axes>"
      ]
     },
     "metadata": {
      "needs_background": "light"
     },
     "output_type": "display_data"
    }
   ],
   "source": [
    "plot_learning_curve(svm_grid_best, X_train, y_train, \"Learning Curve SVM: Dataset#1 Bank Marketing\")"
   ]
  },
  {
   "cell_type": "code",
   "execution_count": 239,
   "metadata": {},
   "outputs": [
    {
     "name": "stdout",
     "output_type": "stream",
     "text": [
      "===================\n",
      "Kernel rbf\n",
      "Train Score 0.9247256160695796\n",
      "Validation Score 0.9069935982606595\n",
      "===================\n",
      "Kernel linear\n",
      "Train Score 0.9046904120936011\n",
      "Validation Score 0.8980553206909047\n",
      "===================\n",
      "Kernel poly\n",
      "Train Score 0.9335266100641955\n",
      "Validation Score 0.9056649353786689\n",
      "===================\n",
      "Kernel sigmoid\n",
      "Train Score 0.8687098778214951\n",
      "Validation Score 0.8699118250996497\n"
     ]
    }
   ],
   "source": [
    "svm_clfs = []\n",
    "kernel_list = ['rbf', 'linear','poly','sigmoid']\n",
    "# using C from best params\n",
    "for i in kernel_list:\n",
    "    svm_clf = SVC(C=svm_grid_best.C, kernel=i)\n",
    "    svm_clf.fit(X_train_real, y_train_real)\n",
    "    svm_clfs.append(svm_clf)\n",
    "    print(\"===================\")\n",
    "    print(f\"Kernel {i}\")\n",
    "    print(f\"Train Score {svm_clf.score(X_train_real, y_train_real)}\")\n",
    "    print(f\"Validation Score {svm_clf.score(X_validation, y_validation)}\")\n",
    "    "
   ]
  },
  {
   "cell_type": "code",
   "execution_count": 252,
   "metadata": {},
   "outputs": [],
   "source": [
    "# how about we varying C? => what will happen?\n",
    "c_values = [ 0.001, 0.01, 0.1, 1, 10, 100]\n",
    "svm_clfs = []\n",
    "for i in c_values:\n",
    "    svm = SVC(C=i,kernel=svm_grid_best.kernel)\n",
    "    svm.fit(X_train_real, y_train_real)\n",
    "    svm_clfs.append(svm)\n",
    "\n",
    "train_score = [i.score(X_train_real, y_train_real) for i in svm_clfs]\n",
    "test_score = [i.score(X_validation, y_validation) for i in svm_clfs]"
   ]
  },
  {
   "cell_type": "code",
   "execution_count": 253,
   "metadata": {
    "scrolled": true
   },
   "outputs": [
    {
     "data": {
      "text/html": [
       "<div>\n",
       "<style scoped>\n",
       "    .dataframe tbody tr th:only-of-type {\n",
       "        vertical-align: middle;\n",
       "    }\n",
       "\n",
       "    .dataframe tbody tr th {\n",
       "        vertical-align: top;\n",
       "    }\n",
       "\n",
       "    .dataframe thead th {\n",
       "        text-align: right;\n",
       "    }\n",
       "</style>\n",
       "<table border=\"1\" class=\"dataframe\">\n",
       "  <thead>\n",
       "    <tr style=\"text-align: right;\">\n",
       "      <th></th>\n",
       "      <th>C</th>\n",
       "      <th>Train Score</th>\n",
       "      <th>Validation Score</th>\n",
       "    </tr>\n",
       "  </thead>\n",
       "  <tbody>\n",
       "    <tr>\n",
       "      <th>0</th>\n",
       "      <td>0.001</td>\n",
       "      <td>0.887917</td>\n",
       "      <td>0.886701</td>\n",
       "    </tr>\n",
       "    <tr>\n",
       "      <th>1</th>\n",
       "      <td>0.010</td>\n",
       "      <td>0.887969</td>\n",
       "      <td>0.886701</td>\n",
       "    </tr>\n",
       "    <tr>\n",
       "      <th>2</th>\n",
       "      <td>0.100</td>\n",
       "      <td>0.906554</td>\n",
       "      <td>0.901317</td>\n",
       "    </tr>\n",
       "    <tr>\n",
       "      <th>3</th>\n",
       "      <td>1.000</td>\n",
       "      <td>0.924726</td>\n",
       "      <td>0.906994</td>\n",
       "    </tr>\n",
       "    <tr>\n",
       "      <th>4</th>\n",
       "      <td>10.000</td>\n",
       "      <td>0.959774</td>\n",
       "      <td>0.904578</td>\n",
       "    </tr>\n",
       "    <tr>\n",
       "      <th>5</th>\n",
       "      <td>100.000</td>\n",
       "      <td>0.989025</td>\n",
       "      <td>0.895519</td>\n",
       "    </tr>\n",
       "  </tbody>\n",
       "</table>\n",
       "</div>"
      ],
      "text/plain": [
       "         C  Train Score  Validation Score\n",
       "0    0.001     0.887917          0.886701\n",
       "1    0.010     0.887969          0.886701\n",
       "2    0.100     0.906554          0.901317\n",
       "3    1.000     0.924726          0.906994\n",
       "4   10.000     0.959774          0.904578\n",
       "5  100.000     0.989025          0.895519"
      ]
     },
     "execution_count": 253,
     "metadata": {},
     "output_type": "execute_result"
    }
   ],
   "source": [
    "pd.DataFrame(zip(c_values, train_score, test_score), columns=['C', 'Train Score', 'Validation Score'])"
   ]
  },
  {
   "cell_type": "markdown",
   "metadata": {},
   "source": [
    "### Neural Networks"
   ]
  },
  {
   "cell_type": "code",
   "execution_count": 240,
   "metadata": {},
   "outputs": [
    {
     "name": "stderr",
     "output_type": "stream",
     "text": [
      "C:\\Users\\Por\\AppData\\Local\\Continuum\\anaconda3\\lib\\site-packages\\sklearn\\neural_network\\_multilayer_perceptron.py:571: ConvergenceWarning: Stochastic Optimizer: Maximum iterations (300) reached and the optimization hasn't converged yet.\n",
      "  % self.max_iter, ConvergenceWarning)\n",
      "C:\\Users\\Por\\AppData\\Local\\Continuum\\anaconda3\\lib\\site-packages\\sklearn\\neural_network\\_multilayer_perceptron.py:571: ConvergenceWarning: Stochastic Optimizer: Maximum iterations (300) reached and the optimization hasn't converged yet.\n",
      "  % self.max_iter, ConvergenceWarning)\n",
      "C:\\Users\\Por\\AppData\\Local\\Continuum\\anaconda3\\lib\\site-packages\\sklearn\\neural_network\\_multilayer_perceptron.py:571: ConvergenceWarning: Stochastic Optimizer: Maximum iterations (300) reached and the optimization hasn't converged yet.\n",
      "  % self.max_iter, ConvergenceWarning)\n",
      "C:\\Users\\Por\\AppData\\Local\\Continuum\\anaconda3\\lib\\site-packages\\sklearn\\neural_network\\_multilayer_perceptron.py:571: ConvergenceWarning: Stochastic Optimizer: Maximum iterations (300) reached and the optimization hasn't converged yet.\n",
      "  % self.max_iter, ConvergenceWarning)\n"
     ]
    },
    {
     "name": "stdout",
     "output_type": "stream",
     "text": [
      "Fit time: 17.061766624450684 seconds\n",
      "Train Score: 0.9207465120492843\n",
      "Performance:\n",
      "SCORE\n",
      "Accuracy: 0.9148826601927462\n",
      "Precision: 0.5172413793103449\n",
      "Recall: 0.6570247933884298\n",
      "F1 Score: 0.5788132508190754\n",
      "ROC AUC: 0.79855196707296\n"
     ]
    }
   ],
   "source": [
    "from sklearn.neural_network import MLPClassifier\n",
    "\n",
    "param_grid = [{\n",
    "    'activation': ['relu', 'logistic', 'tanh'],\n",
    "    'hidden_layer_sizes':[(10,), (10,2), (10,4), (10, 8), (10, 16), (10, 32)]\n",
    "}]\n",
    "\n",
    "\n",
    "ann_clf = MLPClassifier(solver='adam', max_iter=300, random_state=random_state)\n",
    "ann_grid_clf = GridSearchCV(ann_clf, param_grid, cv=5,\n",
    "                           scoring='accuracy', return_train_score=True)\n",
    "\n",
    "ann_grid_clf.fit(X_train, y_train)\n",
    "ann_grid_clf_best = ann_grid_clf.best_estimator_\n",
    "\n",
    "start_time = time.time()\n",
    "ann_grid_clf_best.fit(X_train, y_train)\n",
    "stop_time = time.time()\n",
    "print(f\"Fit time: {stop_time - start_time} seconds\")\n",
    "pred_ann = ann_grid_clf_best.predict(X_test)\n",
    "print(\"Train Score:\", ann_grid_clf_best.score(X_train, y_train))\n",
    "print(\"Performance:\")\n",
    "get_all_metrics_score(pred_ann, y_test)"
   ]
  },
  {
   "cell_type": "code",
   "execution_count": 241,
   "metadata": {},
   "outputs": [
    {
     "data": {
      "text/plain": [
       "MLPClassifier(activation='logistic', alpha=0.0001, batch_size='auto',\n",
       "              beta_1=0.9, beta_2=0.999, early_stopping=False, epsilon=1e-08,\n",
       "              hidden_layer_sizes=(10, 16), learning_rate='constant',\n",
       "              learning_rate_init=0.001, max_fun=15000, max_iter=300,\n",
       "              momentum=0.9, n_iter_no_change=10, nesterovs_momentum=True,\n",
       "              power_t=0.5, random_state=42, shuffle=True, solver='adam',\n",
       "              tol=0.0001, validation_fraction=0.1, verbose=False,\n",
       "              warm_start=False)"
      ]
     },
     "execution_count": 241,
     "metadata": {},
     "output_type": "execute_result"
    }
   ],
   "source": [
    "ann_grid_clf_best"
   ]
  },
  {
   "cell_type": "code",
   "execution_count": 242,
   "metadata": {},
   "outputs": [
    {
     "name": "stderr",
     "output_type": "stream",
     "text": [
      "C:\\Users\\Por\\AppData\\Local\\Continuum\\anaconda3\\lib\\site-packages\\sklearn\\neural_network\\_multilayer_perceptron.py:571: ConvergenceWarning: Stochastic Optimizer: Maximum iterations (300) reached and the optimization hasn't converged yet.\n",
      "  % self.max_iter, ConvergenceWarning)\n",
      "C:\\Users\\Por\\AppData\\Local\\Continuum\\anaconda3\\lib\\site-packages\\sklearn\\neural_network\\_multilayer_perceptron.py:571: ConvergenceWarning: Stochastic Optimizer: Maximum iterations (300) reached and the optimization hasn't converged yet.\n",
      "  % self.max_iter, ConvergenceWarning)\n",
      "C:\\Users\\Por\\AppData\\Local\\Continuum\\anaconda3\\lib\\site-packages\\sklearn\\neural_network\\_multilayer_perceptron.py:571: ConvergenceWarning: Stochastic Optimizer: Maximum iterations (300) reached and the optimization hasn't converged yet.\n",
      "  % self.max_iter, ConvergenceWarning)\n",
      "C:\\Users\\Por\\AppData\\Local\\Continuum\\anaconda3\\lib\\site-packages\\sklearn\\neural_network\\_multilayer_perceptron.py:571: ConvergenceWarning: Stochastic Optimizer: Maximum iterations (300) reached and the optimization hasn't converged yet.\n",
      "  % self.max_iter, ConvergenceWarning)\n",
      "C:\\Users\\Por\\AppData\\Local\\Continuum\\anaconda3\\lib\\site-packages\\sklearn\\neural_network\\_multilayer_perceptron.py:571: ConvergenceWarning: Stochastic Optimizer: Maximum iterations (300) reached and the optimization hasn't converged yet.\n",
      "  % self.max_iter, ConvergenceWarning)\n",
      "C:\\Users\\Por\\AppData\\Local\\Continuum\\anaconda3\\lib\\site-packages\\sklearn\\neural_network\\_multilayer_perceptron.py:571: ConvergenceWarning: Stochastic Optimizer: Maximum iterations (300) reached and the optimization hasn't converged yet.\n",
      "  % self.max_iter, ConvergenceWarning)\n",
      "C:\\Users\\Por\\AppData\\Local\\Continuum\\anaconda3\\lib\\site-packages\\sklearn\\neural_network\\_multilayer_perceptron.py:571: ConvergenceWarning: Stochastic Optimizer: Maximum iterations (300) reached and the optimization hasn't converged yet.\n",
      "  % self.max_iter, ConvergenceWarning)\n",
      "C:\\Users\\Por\\AppData\\Local\\Continuum\\anaconda3\\lib\\site-packages\\sklearn\\neural_network\\_multilayer_perceptron.py:571: ConvergenceWarning: Stochastic Optimizer: Maximum iterations (300) reached and the optimization hasn't converged yet.\n",
      "  % self.max_iter, ConvergenceWarning)\n",
      "C:\\Users\\Por\\AppData\\Local\\Continuum\\anaconda3\\lib\\site-packages\\sklearn\\neural_network\\_multilayer_perceptron.py:571: ConvergenceWarning: Stochastic Optimizer: Maximum iterations (300) reached and the optimization hasn't converged yet.\n",
      "  % self.max_iter, ConvergenceWarning)\n",
      "C:\\Users\\Por\\AppData\\Local\\Continuum\\anaconda3\\lib\\site-packages\\sklearn\\neural_network\\_multilayer_perceptron.py:571: ConvergenceWarning: Stochastic Optimizer: Maximum iterations (300) reached and the optimization hasn't converged yet.\n",
      "  % self.max_iter, ConvergenceWarning)\n",
      "C:\\Users\\Por\\AppData\\Local\\Continuum\\anaconda3\\lib\\site-packages\\sklearn\\neural_network\\_multilayer_perceptron.py:571: ConvergenceWarning: Stochastic Optimizer: Maximum iterations (300) reached and the optimization hasn't converged yet.\n",
      "  % self.max_iter, ConvergenceWarning)\n",
      "C:\\Users\\Por\\AppData\\Local\\Continuum\\anaconda3\\lib\\site-packages\\sklearn\\neural_network\\_multilayer_perceptron.py:571: ConvergenceWarning: Stochastic Optimizer: Maximum iterations (300) reached and the optimization hasn't converged yet.\n",
      "  % self.max_iter, ConvergenceWarning)\n",
      "C:\\Users\\Por\\AppData\\Local\\Continuum\\anaconda3\\lib\\site-packages\\sklearn\\neural_network\\_multilayer_perceptron.py:571: ConvergenceWarning: Stochastic Optimizer: Maximum iterations (300) reached and the optimization hasn't converged yet.\n",
      "  % self.max_iter, ConvergenceWarning)\n",
      "C:\\Users\\Por\\AppData\\Local\\Continuum\\anaconda3\\lib\\site-packages\\sklearn\\neural_network\\_multilayer_perceptron.py:571: ConvergenceWarning: Stochastic Optimizer: Maximum iterations (300) reached and the optimization hasn't converged yet.\n",
      "  % self.max_iter, ConvergenceWarning)\n",
      "C:\\Users\\Por\\AppData\\Local\\Continuum\\anaconda3\\lib\\site-packages\\sklearn\\neural_network\\_multilayer_perceptron.py:571: ConvergenceWarning: Stochastic Optimizer: Maximum iterations (300) reached and the optimization hasn't converged yet.\n",
      "  % self.max_iter, ConvergenceWarning)\n",
      "C:\\Users\\Por\\AppData\\Local\\Continuum\\anaconda3\\lib\\site-packages\\sklearn\\neural_network\\_multilayer_perceptron.py:571: ConvergenceWarning: Stochastic Optimizer: Maximum iterations (300) reached and the optimization hasn't converged yet.\n",
      "  % self.max_iter, ConvergenceWarning)\n",
      "C:\\Users\\Por\\AppData\\Local\\Continuum\\anaconda3\\lib\\site-packages\\sklearn\\neural_network\\_multilayer_perceptron.py:571: ConvergenceWarning: Stochastic Optimizer: Maximum iterations (300) reached and the optimization hasn't converged yet.\n",
      "  % self.max_iter, ConvergenceWarning)\n",
      "C:\\Users\\Por\\AppData\\Local\\Continuum\\anaconda3\\lib\\site-packages\\sklearn\\neural_network\\_multilayer_perceptron.py:571: ConvergenceWarning: Stochastic Optimizer: Maximum iterations (300) reached and the optimization hasn't converged yet.\n",
      "  % self.max_iter, ConvergenceWarning)\n",
      "C:\\Users\\Por\\AppData\\Local\\Continuum\\anaconda3\\lib\\site-packages\\sklearn\\neural_network\\_multilayer_perceptron.py:571: ConvergenceWarning: Stochastic Optimizer: Maximum iterations (300) reached and the optimization hasn't converged yet.\n",
      "  % self.max_iter, ConvergenceWarning)\n",
      "C:\\Users\\Por\\AppData\\Local\\Continuum\\anaconda3\\lib\\site-packages\\sklearn\\neural_network\\_multilayer_perceptron.py:571: ConvergenceWarning: Stochastic Optimizer: Maximum iterations (300) reached and the optimization hasn't converged yet.\n",
      "  % self.max_iter, ConvergenceWarning)\n",
      "C:\\Users\\Por\\AppData\\Local\\Continuum\\anaconda3\\lib\\site-packages\\sklearn\\neural_network\\_multilayer_perceptron.py:571: ConvergenceWarning: Stochastic Optimizer: Maximum iterations (300) reached and the optimization hasn't converged yet.\n",
      "  % self.max_iter, ConvergenceWarning)\n",
      "C:\\Users\\Por\\AppData\\Local\\Continuum\\anaconda3\\lib\\site-packages\\sklearn\\neural_network\\_multilayer_perceptron.py:571: ConvergenceWarning: Stochastic Optimizer: Maximum iterations (300) reached and the optimization hasn't converged yet.\n",
      "  % self.max_iter, ConvergenceWarning)\n",
      "C:\\Users\\Por\\AppData\\Local\\Continuum\\anaconda3\\lib\\site-packages\\sklearn\\neural_network\\_multilayer_perceptron.py:571: ConvergenceWarning: Stochastic Optimizer: Maximum iterations (300) reached and the optimization hasn't converged yet.\n",
      "  % self.max_iter, ConvergenceWarning)\n",
      "C:\\Users\\Por\\AppData\\Local\\Continuum\\anaconda3\\lib\\site-packages\\sklearn\\neural_network\\_multilayer_perceptron.py:571: ConvergenceWarning: Stochastic Optimizer: Maximum iterations (300) reached and the optimization hasn't converged yet.\n",
      "  % self.max_iter, ConvergenceWarning)\n",
      "C:\\Users\\Por\\AppData\\Local\\Continuum\\anaconda3\\lib\\site-packages\\sklearn\\neural_network\\_multilayer_perceptron.py:571: ConvergenceWarning: Stochastic Optimizer: Maximum iterations (300) reached and the optimization hasn't converged yet.\n",
      "  % self.max_iter, ConvergenceWarning)\n",
      "C:\\Users\\Por\\AppData\\Local\\Continuum\\anaconda3\\lib\\site-packages\\sklearn\\neural_network\\_multilayer_perceptron.py:571: ConvergenceWarning: Stochastic Optimizer: Maximum iterations (300) reached and the optimization hasn't converged yet.\n",
      "  % self.max_iter, ConvergenceWarning)\n",
      "C:\\Users\\Por\\AppData\\Local\\Continuum\\anaconda3\\lib\\site-packages\\sklearn\\neural_network\\_multilayer_perceptron.py:571: ConvergenceWarning: Stochastic Optimizer: Maximum iterations (300) reached and the optimization hasn't converged yet.\n",
      "  % self.max_iter, ConvergenceWarning)\n",
      "C:\\Users\\Por\\AppData\\Local\\Continuum\\anaconda3\\lib\\site-packages\\sklearn\\neural_network\\_multilayer_perceptron.py:571: ConvergenceWarning: Stochastic Optimizer: Maximum iterations (300) reached and the optimization hasn't converged yet.\n",
      "  % self.max_iter, ConvergenceWarning)\n",
      "C:\\Users\\Por\\AppData\\Local\\Continuum\\anaconda3\\lib\\site-packages\\sklearn\\neural_network\\_multilayer_perceptron.py:571: ConvergenceWarning: Stochastic Optimizer: Maximum iterations (300) reached and the optimization hasn't converged yet.\n",
      "  % self.max_iter, ConvergenceWarning)\n",
      "C:\\Users\\Por\\AppData\\Local\\Continuum\\anaconda3\\lib\\site-packages\\sklearn\\neural_network\\_multilayer_perceptron.py:571: ConvergenceWarning: Stochastic Optimizer: Maximum iterations (300) reached and the optimization hasn't converged yet.\n",
      "  % self.max_iter, ConvergenceWarning)\n"
     ]
    },
    {
     "data": {
      "image/png": "[encoded data removed]",
      "text/plain": [
       "<Figure size 432x288 with 1 Axes>"
      ]
     },
     "metadata": {
      "needs_background": "light"
     },
     "output_type": "display_data"
    }
   ],
   "source": [
    "plot_learning_curve(ann_grid_clf_best, X_train, y_train, \"Learning Curve Neural Networks: Dataset#1 Bank Marketing\")"
   ]
  },
  {
   "cell_type": "code",
   "execution_count": 244,
   "metadata": {},
   "outputs": [
    {
     "name": "stdout",
     "output_type": "stream",
     "text": [
      "===================\n",
      "Activation Function: relu\n",
      "Train Score 0.9313004762890867\n",
      "Validation Score 0.9088054112815558\n",
      "===================\n",
      "Activation Function: logistic\n",
      "Train Score 0.923534893352661\n",
      "Validation Score 0.9114627370455369\n",
      "===================\n",
      "Activation Function: tanh\n",
      "Train Score 0.928453095879064\n",
      "Validation Score 0.9079598985384708\n"
     ]
    },
    {
     "name": "stderr",
     "output_type": "stream",
     "text": [
      "C:\\Users\\Por\\AppData\\Local\\Continuum\\anaconda3\\lib\\site-packages\\sklearn\\neural_network\\_multilayer_perceptron.py:571: ConvergenceWarning: Stochastic Optimizer: Maximum iterations (300) reached and the optimization hasn't converged yet.\n",
      "  % self.max_iter, ConvergenceWarning)\n"
     ]
    }
   ],
   "source": [
    "ann_clfs = []\n",
    "activation_list = ['relu', 'logistic', 'tanh']\n",
    "# using C from best params\n",
    "for i in activation_list:\n",
    "    ann_clf = MLPClassifier(activation=i,hidden_layer_sizes=ann_grid_clf_best.hidden_layer_sizes, solver='adam', max_iter=300, random_state=random_state)\n",
    "    ann_clf.fit(X_train_real, y_train_real)\n",
    "    ann_clfs.append(ann_clf)\n",
    "    print(\"===================\")\n",
    "    print(f\"Activation Function: {i}\")\n",
    "    print(f\"Train Score {ann_clf.score(X_train_real, y_train_real)}\")\n",
    "    print(f\"Validation Score {ann_clf.score(X_validation, y_validation)}\")\n"
   ]
  },
  {
   "cell_type": "code",
   "execution_count": 245,
   "metadata": {},
   "outputs": [
    {
     "data": {
      "image/png": "[encoded data removed]",
      "text/plain": [
       "<Figure size 432x288 with 1 Axes>"
      ]
     },
     "metadata": {
      "needs_background": "light"
     },
     "output_type": "display_data"
    }
   ],
   "source": [
    "# For number of hidden units in the second layers\n",
    "acc_train = []\n",
    "acc_test = []\n",
    "# clfs = []\n",
    "hidden_units = [2**n for n in range(0, 8, 1)]\n",
    "# hidden_units =\n",
    "for i in hidden_units:\n",
    "    if i == 0:\n",
    "        sizes = (10,)\n",
    "    else:\n",
    "        sizes = (10,i)\n",
    "    clf = MLPClassifier(activation='logistic', hidden_layer_sizes=sizes,max_iter=300, solver='adam', random_state=random_state)\n",
    "    clf.fit(X_train_real, y_train_real)\n",
    "    y_pred = clf.predict(X_validation)\n",
    "    test_score = accuracy_score(y_validation, y_pred)\n",
    "    acc_train.append(clf.score(X_train_real, y_train_real))\n",
    "    acc_test.append(test_score)\n",
    "    \n",
    "fig, ax = plt.subplots()\n",
    "ax.plot(list(hidden_units), acc_train, \"b-\", label='Training Sets')\n",
    "ax.plot(list(hidden_units), acc_test, \"r-\", label='Validation Sets')\n",
    "ax.set_xlabel('Number of Hidden Units')\n",
    "ax.set_ylabel('Mean Accuracy')\n",
    "ax.set_title('Learning Curve: Number of Hidden Units for Datasets #1 Bank Marketing')\n",
    "ax.legend()\n",
    "plt.show(fig)"
   ]
  },
  {
   "cell_type": "code",
   "execution_count": 246,
   "metadata": {},
   "outputs": [
    {
     "name": "stderr",
     "output_type": "stream",
     "text": [
      "C:\\Users\\Por\\AppData\\Local\\Continuum\\anaconda3\\lib\\site-packages\\sklearn\\neural_network\\_multilayer_perceptron.py:571: ConvergenceWarning: Stochastic Optimizer: Maximum iterations (1) reached and the optimization hasn't converged yet.\n",
      "  % self.max_iter, ConvergenceWarning)\n"
     ]
    },
    {
     "data": {
      "image/png": "[encoded data removed]",
      "text/plain": [
       "<Figure size 432x288 with 1 Axes>"
      ]
     },
     "metadata": {
      "needs_background": "light"
     },
     "output_type": "display_data"
    }
   ],
   "source": [
    "clf = MLPClassifier(activation=ann_grid_clf_best.activation, hidden_layer_sizes=ann_grid_clf_best.hidden_layer_sizes, learning_rate_init=0.001, random_state=1, max_iter=1, solver='adam', warm_start=True)\n",
    "acc_train = []\n",
    "acc_test = []\n",
    "# clfs = []\n",
    "times_range = range(50)\n",
    "for i in times_range:\n",
    "    clf.fit(X_train_real, y_train_real)\n",
    "    y_pred = clf.predict(X_validation)\n",
    "    test_score = accuracy_score(y_validation, y_pred)\n",
    "    acc_train.append(clf.score(X_train_real, y_train_real))\n",
    "    acc_test.append(test_score)\n",
    "    \n",
    "fig, ax = plt.subplots()\n",
    "ax.plot( list(times_range), acc_train, \"b-\", label='Training Sets')\n",
    "ax.plot(list(times_range), acc_test, \"r-\", label='Validation Sets')\n",
    "ax.set_xlabel('Epochs')\n",
    "ax.set_ylabel('Mean Accuracy')\n",
    "ax.set_title('Learning Curve Neural Network: Dataset#1 Bank Marketing')\n",
    "ax.legend()\n",
    "plt.show(fig)"
   ]
  }
 ],
 "metadata": {
  "kernelspec": {
   "display_name": "Python 3",
   "language": "python",
   "name": "python3"
  },
  "language_info": {
   "codemirror_mode": {
    "name": "ipython",
    "version": 3
   },
   "file_extension": ".py",
   "mimetype": "text/x-python",
   "name": "python",
   "nbconvert_exporter": "python",
   "pygments_lexer": "ipython3",
   "version": "3.6.10"
  }
 },
 "nbformat": 4,
 "nbformat_minor": 4
}
